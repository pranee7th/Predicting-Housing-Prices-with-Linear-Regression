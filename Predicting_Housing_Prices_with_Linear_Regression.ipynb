{
  "nbformat": 4,
  "nbformat_minor": 0,
  "metadata": {
    "kernelspec": {
      "display_name": "Python 3",
      "language": "python",
      "name": "python3"
    },
    "language_info": {
      "codemirror_mode": {
        "name": "ipython",
        "version": 3
      },
      "file_extension": ".py",
      "mimetype": "text/x-python",
      "name": "python",
      "nbconvert_exporter": "python",
      "pygments_lexer": "ipython3",
      "version": "3.7.6"
    },
    "colab": {
      "provenance": []
    }
  },
  "cells": [
    {
      "cell_type": "markdown",
      "metadata": {
        "id": "QkMxpyKOxR-L"
      },
      "source": [
        "## Import Libraries & Data Overview"
      ]
    },
    {
      "cell_type": "code",
      "metadata": {
        "id": "-aISISDbDVKG"
      },
      "source": [
        "from sklearn import datasets\n",
        "import pandas as pd\n",
        "import numpy as np\n",
        "import seaborn as sns\n",
        "import matplotlib.pyplot as plt\n",
        "np.set_printoptions(suppress=True)\n",
        "import sklearn"
      ],
      "execution_count": null,
      "outputs": []
    },
    {
      "cell_type": "code",
      "source": [
        "df = pd.read_excel(\"boston.xlsx\")\n",
        "df"
      ],
      "metadata": {
        "colab": {
          "base_uri": "https://localhost:8080/",
          "height": 423
        },
        "id": "AHlukiV2bG1q",
        "outputId": "a5e56fd1-7d80-4cbf-ce0d-e095bebe2ea7"
      },
      "execution_count": null,
      "outputs": [
        {
          "output_type": "execute_result",
          "data": {
            "text/plain": [
              "        CRIM    ZN  INDUS  CHAS    NOX     RM   AGE     DIS  RAD  TAX  \\\n",
              "0    0.00632  18.0   2.31     0  0.538  6.575  65.2  4.0900    1  296   \n",
              "1    0.02731   0.0   7.07     0  0.469  6.421  78.9  4.9671    2  242   \n",
              "2    0.02729   0.0   7.07     0  0.469  7.185  61.1  4.9671    2  242   \n",
              "3    0.03237   0.0   2.18     0  0.458  6.998  45.8  6.0622    3  222   \n",
              "4    0.06905   0.0   2.18     0  0.458  7.147  54.2  6.0622    3  222   \n",
              "..       ...   ...    ...   ...    ...    ...   ...     ...  ...  ...   \n",
              "501  0.06263   0.0  11.93     0  0.573  6.593  69.1  2.4786    1  273   \n",
              "502  0.04527   0.0  11.93     0  0.573  6.120  76.7  2.2875    1  273   \n",
              "503  0.06076   0.0  11.93     0  0.573  6.976  91.0  2.1675    1  273   \n",
              "504  0.10959   0.0  11.93     0  0.573  6.794  89.3  2.3889    1  273   \n",
              "505  0.04741   0.0  11.93     0  0.573  6.030  80.8  2.5050    1  273   \n",
              "\n",
              "     PTRATIO       B  LSTAT  MEDV  \n",
              "0       15.3  396.90   4.98  24.0  \n",
              "1       17.8  396.90   9.14  21.6  \n",
              "2       17.8  392.83   4.03  34.7  \n",
              "3       18.7  394.63   2.94  33.4  \n",
              "4       18.7  396.90   5.33  36.2  \n",
              "..       ...     ...    ...   ...  \n",
              "501     21.0  391.99   9.67  22.4  \n",
              "502     21.0  396.90   9.08  20.6  \n",
              "503     21.0  396.90   5.64  23.9  \n",
              "504     21.0  393.45   6.48  22.0  \n",
              "505     21.0  396.90   7.88  11.9  \n",
              "\n",
              "[506 rows x 14 columns]"
            ],
            "text/html": [
              "\n",
              "  <div id=\"df-92aeb90c-4ef9-40a5-a78a-b3f5f0889e14\" class=\"colab-df-container\">\n",
              "    <div>\n",
              "<style scoped>\n",
              "    .dataframe tbody tr th:only-of-type {\n",
              "        vertical-align: middle;\n",
              "    }\n",
              "\n",
              "    .dataframe tbody tr th {\n",
              "        vertical-align: top;\n",
              "    }\n",
              "\n",
              "    .dataframe thead th {\n",
              "        text-align: right;\n",
              "    }\n",
              "</style>\n",
              "<table border=\"1\" class=\"dataframe\">\n",
              "  <thead>\n",
              "    <tr style=\"text-align: right;\">\n",
              "      <th></th>\n",
              "      <th>CRIM</th>\n",
              "      <th>ZN</th>\n",
              "      <th>INDUS</th>\n",
              "      <th>CHAS</th>\n",
              "      <th>NOX</th>\n",
              "      <th>RM</th>\n",
              "      <th>AGE</th>\n",
              "      <th>DIS</th>\n",
              "      <th>RAD</th>\n",
              "      <th>TAX</th>\n",
              "      <th>PTRATIO</th>\n",
              "      <th>B</th>\n",
              "      <th>LSTAT</th>\n",
              "      <th>MEDV</th>\n",
              "    </tr>\n",
              "  </thead>\n",
              "  <tbody>\n",
              "    <tr>\n",
              "      <th>0</th>\n",
              "      <td>0.00632</td>\n",
              "      <td>18.0</td>\n",
              "      <td>2.31</td>\n",
              "      <td>0</td>\n",
              "      <td>0.538</td>\n",
              "      <td>6.575</td>\n",
              "      <td>65.2</td>\n",
              "      <td>4.0900</td>\n",
              "      <td>1</td>\n",
              "      <td>296</td>\n",
              "      <td>15.3</td>\n",
              "      <td>396.90</td>\n",
              "      <td>4.98</td>\n",
              "      <td>24.0</td>\n",
              "    </tr>\n",
              "    <tr>\n",
              "      <th>1</th>\n",
              "      <td>0.02731</td>\n",
              "      <td>0.0</td>\n",
              "      <td>7.07</td>\n",
              "      <td>0</td>\n",
              "      <td>0.469</td>\n",
              "      <td>6.421</td>\n",
              "      <td>78.9</td>\n",
              "      <td>4.9671</td>\n",
              "      <td>2</td>\n",
              "      <td>242</td>\n",
              "      <td>17.8</td>\n",
              "      <td>396.90</td>\n",
              "      <td>9.14</td>\n",
              "      <td>21.6</td>\n",
              "    </tr>\n",
              "    <tr>\n",
              "      <th>2</th>\n",
              "      <td>0.02729</td>\n",
              "      <td>0.0</td>\n",
              "      <td>7.07</td>\n",
              "      <td>0</td>\n",
              "      <td>0.469</td>\n",
              "      <td>7.185</td>\n",
              "      <td>61.1</td>\n",
              "      <td>4.9671</td>\n",
              "      <td>2</td>\n",
              "      <td>242</td>\n",
              "      <td>17.8</td>\n",
              "      <td>392.83</td>\n",
              "      <td>4.03</td>\n",
              "      <td>34.7</td>\n",
              "    </tr>\n",
              "    <tr>\n",
              "      <th>3</th>\n",
              "      <td>0.03237</td>\n",
              "      <td>0.0</td>\n",
              "      <td>2.18</td>\n",
              "      <td>0</td>\n",
              "      <td>0.458</td>\n",
              "      <td>6.998</td>\n",
              "      <td>45.8</td>\n",
              "      <td>6.0622</td>\n",
              "      <td>3</td>\n",
              "      <td>222</td>\n",
              "      <td>18.7</td>\n",
              "      <td>394.63</td>\n",
              "      <td>2.94</td>\n",
              "      <td>33.4</td>\n",
              "    </tr>\n",
              "    <tr>\n",
              "      <th>4</th>\n",
              "      <td>0.06905</td>\n",
              "      <td>0.0</td>\n",
              "      <td>2.18</td>\n",
              "      <td>0</td>\n",
              "      <td>0.458</td>\n",
              "      <td>7.147</td>\n",
              "      <td>54.2</td>\n",
              "      <td>6.0622</td>\n",
              "      <td>3</td>\n",
              "      <td>222</td>\n",
              "      <td>18.7</td>\n",
              "      <td>396.90</td>\n",
              "      <td>5.33</td>\n",
              "      <td>36.2</td>\n",
              "    </tr>\n",
              "    <tr>\n",
              "      <th>...</th>\n",
              "      <td>...</td>\n",
              "      <td>...</td>\n",
              "      <td>...</td>\n",
              "      <td>...</td>\n",
              "      <td>...</td>\n",
              "      <td>...</td>\n",
              "      <td>...</td>\n",
              "      <td>...</td>\n",
              "      <td>...</td>\n",
              "      <td>...</td>\n",
              "      <td>...</td>\n",
              "      <td>...</td>\n",
              "      <td>...</td>\n",
              "      <td>...</td>\n",
              "    </tr>\n",
              "    <tr>\n",
              "      <th>501</th>\n",
              "      <td>0.06263</td>\n",
              "      <td>0.0</td>\n",
              "      <td>11.93</td>\n",
              "      <td>0</td>\n",
              "      <td>0.573</td>\n",
              "      <td>6.593</td>\n",
              "      <td>69.1</td>\n",
              "      <td>2.4786</td>\n",
              "      <td>1</td>\n",
              "      <td>273</td>\n",
              "      <td>21.0</td>\n",
              "      <td>391.99</td>\n",
              "      <td>9.67</td>\n",
              "      <td>22.4</td>\n",
              "    </tr>\n",
              "    <tr>\n",
              "      <th>502</th>\n",
              "      <td>0.04527</td>\n",
              "      <td>0.0</td>\n",
              "      <td>11.93</td>\n",
              "      <td>0</td>\n",
              "      <td>0.573</td>\n",
              "      <td>6.120</td>\n",
              "      <td>76.7</td>\n",
              "      <td>2.2875</td>\n",
              "      <td>1</td>\n",
              "      <td>273</td>\n",
              "      <td>21.0</td>\n",
              "      <td>396.90</td>\n",
              "      <td>9.08</td>\n",
              "      <td>20.6</td>\n",
              "    </tr>\n",
              "    <tr>\n",
              "      <th>503</th>\n",
              "      <td>0.06076</td>\n",
              "      <td>0.0</td>\n",
              "      <td>11.93</td>\n",
              "      <td>0</td>\n",
              "      <td>0.573</td>\n",
              "      <td>6.976</td>\n",
              "      <td>91.0</td>\n",
              "      <td>2.1675</td>\n",
              "      <td>1</td>\n",
              "      <td>273</td>\n",
              "      <td>21.0</td>\n",
              "      <td>396.90</td>\n",
              "      <td>5.64</td>\n",
              "      <td>23.9</td>\n",
              "    </tr>\n",
              "    <tr>\n",
              "      <th>504</th>\n",
              "      <td>0.10959</td>\n",
              "      <td>0.0</td>\n",
              "      <td>11.93</td>\n",
              "      <td>0</td>\n",
              "      <td>0.573</td>\n",
              "      <td>6.794</td>\n",
              "      <td>89.3</td>\n",
              "      <td>2.3889</td>\n",
              "      <td>1</td>\n",
              "      <td>273</td>\n",
              "      <td>21.0</td>\n",
              "      <td>393.45</td>\n",
              "      <td>6.48</td>\n",
              "      <td>22.0</td>\n",
              "    </tr>\n",
              "    <tr>\n",
              "      <th>505</th>\n",
              "      <td>0.04741</td>\n",
              "      <td>0.0</td>\n",
              "      <td>11.93</td>\n",
              "      <td>0</td>\n",
              "      <td>0.573</td>\n",
              "      <td>6.030</td>\n",
              "      <td>80.8</td>\n",
              "      <td>2.5050</td>\n",
              "      <td>1</td>\n",
              "      <td>273</td>\n",
              "      <td>21.0</td>\n",
              "      <td>396.90</td>\n",
              "      <td>7.88</td>\n",
              "      <td>11.9</td>\n",
              "    </tr>\n",
              "  </tbody>\n",
              "</table>\n",
              "<p>506 rows × 14 columns</p>\n",
              "</div>\n",
              "    <div class=\"colab-df-buttons\">\n",
              "\n",
              "  <div class=\"colab-df-container\">\n",
              "    <button class=\"colab-df-convert\" onclick=\"convertToInteractive('df-92aeb90c-4ef9-40a5-a78a-b3f5f0889e14')\"\n",
              "            title=\"Convert this dataframe to an interactive table.\"\n",
              "            style=\"display:none;\">\n",
              "\n",
              "  <svg xmlns=\"http://www.w3.org/2000/svg\" height=\"24px\" viewBox=\"0 -960 960 960\">\n",
              "    <path d=\"M120-120v-720h720v720H120Zm60-500h600v-160H180v160Zm220 220h160v-160H400v160Zm0 220h160v-160H400v160ZM180-400h160v-160H180v160Zm440 0h160v-160H620v160ZM180-180h160v-160H180v160Zm440 0h160v-160H620v160Z\"/>\n",
              "  </svg>\n",
              "    </button>\n",
              "\n",
              "  <style>\n",
              "    .colab-df-container {\n",
              "      display:flex;\n",
              "      gap: 12px;\n",
              "    }\n",
              "\n",
              "    .colab-df-convert {\n",
              "      background-color: #E8F0FE;\n",
              "      border: none;\n",
              "      border-radius: 50%;\n",
              "      cursor: pointer;\n",
              "      display: none;\n",
              "      fill: #1967D2;\n",
              "      height: 32px;\n",
              "      padding: 0 0 0 0;\n",
              "      width: 32px;\n",
              "    }\n",
              "\n",
              "    .colab-df-convert:hover {\n",
              "      background-color: #E2EBFA;\n",
              "      box-shadow: 0px 1px 2px rgba(60, 64, 67, 0.3), 0px 1px 3px 1px rgba(60, 64, 67, 0.15);\n",
              "      fill: #174EA6;\n",
              "    }\n",
              "\n",
              "    .colab-df-buttons div {\n",
              "      margin-bottom: 4px;\n",
              "    }\n",
              "\n",
              "    [theme=dark] .colab-df-convert {\n",
              "      background-color: #3B4455;\n",
              "      fill: #D2E3FC;\n",
              "    }\n",
              "\n",
              "    [theme=dark] .colab-df-convert:hover {\n",
              "      background-color: #434B5C;\n",
              "      box-shadow: 0px 1px 3px 1px rgba(0, 0, 0, 0.15);\n",
              "      filter: drop-shadow(0px 1px 2px rgba(0, 0, 0, 0.3));\n",
              "      fill: #FFFFFF;\n",
              "    }\n",
              "  </style>\n",
              "\n",
              "    <script>\n",
              "      const buttonEl =\n",
              "        document.querySelector('#df-92aeb90c-4ef9-40a5-a78a-b3f5f0889e14 button.colab-df-convert');\n",
              "      buttonEl.style.display =\n",
              "        google.colab.kernel.accessAllowed ? 'block' : 'none';\n",
              "\n",
              "      async function convertToInteractive(key) {\n",
              "        const element = document.querySelector('#df-92aeb90c-4ef9-40a5-a78a-b3f5f0889e14');\n",
              "        const dataTable =\n",
              "          await google.colab.kernel.invokeFunction('convertToInteractive',\n",
              "                                                    [key], {});\n",
              "        if (!dataTable) return;\n",
              "\n",
              "        const docLinkHtml = 'Like what you see? Visit the ' +\n",
              "          '<a target=\"_blank\" href=https://colab.research.google.com/notebooks/data_table.ipynb>data table notebook</a>'\n",
              "          + ' to learn more about interactive tables.';\n",
              "        element.innerHTML = '';\n",
              "        dataTable['output_type'] = 'display_data';\n",
              "        await google.colab.output.renderOutput(dataTable, element);\n",
              "        const docLink = document.createElement('div');\n",
              "        docLink.innerHTML = docLinkHtml;\n",
              "        element.appendChild(docLink);\n",
              "      }\n",
              "    </script>\n",
              "  </div>\n",
              "\n",
              "\n",
              "<div id=\"df-54e22ada-f23b-4a20-9912-55e4f9952ec3\">\n",
              "  <button class=\"colab-df-quickchart\" onclick=\"quickchart('df-54e22ada-f23b-4a20-9912-55e4f9952ec3')\"\n",
              "            title=\"Suggest charts.\"\n",
              "            style=\"display:none;\">\n",
              "\n",
              "<svg xmlns=\"http://www.w3.org/2000/svg\" height=\"24px\"viewBox=\"0 0 24 24\"\n",
              "     width=\"24px\">\n",
              "    <g>\n",
              "        <path d=\"M19 3H5c-1.1 0-2 .9-2 2v14c0 1.1.9 2 2 2h14c1.1 0 2-.9 2-2V5c0-1.1-.9-2-2-2zM9 17H7v-7h2v7zm4 0h-2V7h2v10zm4 0h-2v-4h2v4z\"/>\n",
              "    </g>\n",
              "</svg>\n",
              "  </button>\n",
              "\n",
              "<style>\n",
              "  .colab-df-quickchart {\n",
              "      --bg-color: #E8F0FE;\n",
              "      --fill-color: #1967D2;\n",
              "      --hover-bg-color: #E2EBFA;\n",
              "      --hover-fill-color: #174EA6;\n",
              "      --disabled-fill-color: #AAA;\n",
              "      --disabled-bg-color: #DDD;\n",
              "  }\n",
              "\n",
              "  [theme=dark] .colab-df-quickchart {\n",
              "      --bg-color: #3B4455;\n",
              "      --fill-color: #D2E3FC;\n",
              "      --hover-bg-color: #434B5C;\n",
              "      --hover-fill-color: #FFFFFF;\n",
              "      --disabled-bg-color: #3B4455;\n",
              "      --disabled-fill-color: #666;\n",
              "  }\n",
              "\n",
              "  .colab-df-quickchart {\n",
              "    background-color: var(--bg-color);\n",
              "    border: none;\n",
              "    border-radius: 50%;\n",
              "    cursor: pointer;\n",
              "    display: none;\n",
              "    fill: var(--fill-color);\n",
              "    height: 32px;\n",
              "    padding: 0;\n",
              "    width: 32px;\n",
              "  }\n",
              "\n",
              "  .colab-df-quickchart:hover {\n",
              "    background-color: var(--hover-bg-color);\n",
              "    box-shadow: 0 1px 2px rgba(60, 64, 67, 0.3), 0 1px 3px 1px rgba(60, 64, 67, 0.15);\n",
              "    fill: var(--button-hover-fill-color);\n",
              "  }\n",
              "\n",
              "  .colab-df-quickchart-complete:disabled,\n",
              "  .colab-df-quickchart-complete:disabled:hover {\n",
              "    background-color: var(--disabled-bg-color);\n",
              "    fill: var(--disabled-fill-color);\n",
              "    box-shadow: none;\n",
              "  }\n",
              "\n",
              "  .colab-df-spinner {\n",
              "    border: 2px solid var(--fill-color);\n",
              "    border-color: transparent;\n",
              "    border-bottom-color: var(--fill-color);\n",
              "    animation:\n",
              "      spin 1s steps(1) infinite;\n",
              "  }\n",
              "\n",
              "  @keyframes spin {\n",
              "    0% {\n",
              "      border-color: transparent;\n",
              "      border-bottom-color: var(--fill-color);\n",
              "      border-left-color: var(--fill-color);\n",
              "    }\n",
              "    20% {\n",
              "      border-color: transparent;\n",
              "      border-left-color: var(--fill-color);\n",
              "      border-top-color: var(--fill-color);\n",
              "    }\n",
              "    30% {\n",
              "      border-color: transparent;\n",
              "      border-left-color: var(--fill-color);\n",
              "      border-top-color: var(--fill-color);\n",
              "      border-right-color: var(--fill-color);\n",
              "    }\n",
              "    40% {\n",
              "      border-color: transparent;\n",
              "      border-right-color: var(--fill-color);\n",
              "      border-top-color: var(--fill-color);\n",
              "    }\n",
              "    60% {\n",
              "      border-color: transparent;\n",
              "      border-right-color: var(--fill-color);\n",
              "    }\n",
              "    80% {\n",
              "      border-color: transparent;\n",
              "      border-right-color: var(--fill-color);\n",
              "      border-bottom-color: var(--fill-color);\n",
              "    }\n",
              "    90% {\n",
              "      border-color: transparent;\n",
              "      border-bottom-color: var(--fill-color);\n",
              "    }\n",
              "  }\n",
              "</style>\n",
              "\n",
              "  <script>\n",
              "    async function quickchart(key) {\n",
              "      const quickchartButtonEl =\n",
              "        document.querySelector('#' + key + ' button');\n",
              "      quickchartButtonEl.disabled = true;  // To prevent multiple clicks.\n",
              "      quickchartButtonEl.classList.add('colab-df-spinner');\n",
              "      try {\n",
              "        const charts = await google.colab.kernel.invokeFunction(\n",
              "            'suggestCharts', [key], {});\n",
              "      } catch (error) {\n",
              "        console.error('Error during call to suggestCharts:', error);\n",
              "      }\n",
              "      quickchartButtonEl.classList.remove('colab-df-spinner');\n",
              "      quickchartButtonEl.classList.add('colab-df-quickchart-complete');\n",
              "    }\n",
              "    (() => {\n",
              "      let quickchartButtonEl =\n",
              "        document.querySelector('#df-54e22ada-f23b-4a20-9912-55e4f9952ec3 button');\n",
              "      quickchartButtonEl.style.display =\n",
              "        google.colab.kernel.accessAllowed ? 'block' : 'none';\n",
              "    })();\n",
              "  </script>\n",
              "</div>\n",
              "    </div>\n",
              "  </div>\n"
            ]
          },
          "metadata": {},
          "execution_count": 9
        }
      ]
    },
    {
      "cell_type": "markdown",
      "metadata": {
        "id": "orhex-OXhkgV"
      },
      "source": [
        "\n",
        "## Exploratory Data Analysis"
      ]
    },
    {
      "cell_type": "code",
      "source": [
        "from google.colab import drive\n",
        "drive.mount('/content/drive')"
      ],
      "metadata": {
        "colab": {
          "base_uri": "https://localhost:8080/"
        },
        "id": "qpc5i01cjqhY",
        "outputId": "d7e01d66-db16-42d1-eb49-d88dfc26062b"
      },
      "execution_count": null,
      "outputs": [
        {
          "output_type": "stream",
          "name": "stdout",
          "text": [
            "Mounted at /content/drive\n"
          ]
        }
      ]
    },
    {
      "cell_type": "markdown",
      "source": [
        "### Correlation Matrix\n",
        "\n",
        "Prevent collinearity by removing linearly dependent variables.\n",
        "\n",
        "For example, if 2 variables A and B have a correlation coefficient larger than 0.9, eliminate one to avoid redundency."
      ],
      "metadata": {
        "id": "NQiFgiUZu7FE"
      }
    },
    {
      "cell_type": "code",
      "metadata": {
        "id": "HciIg1g4jE_a",
        "colab": {
          "base_uri": "https://localhost:8080/",
          "height": 468
        },
        "outputId": "97ecf2b5-54af-42c4-a9a7-83cd3a797cb3"
      },
      "source": [
        "plt.figure(figsize=(14,5))\n",
        "sns.heatmap(df.corr(), annot=True, vmin=-1, vmax=1, fmt=\".3f\",cmap=\"Spectral\")\n"
      ],
      "execution_count": null,
      "outputs": [
        {
          "output_type": "execute_result",
          "data": {
            "text/plain": [
              "<Axes: >"
            ]
          },
          "metadata": {},
          "execution_count": 10
        },
        {
          "output_type": "display_data",
          "data": {
            "text/plain": [
              "<Figure size 1400x500 with 2 Axes>"
            ],
            "image/png": "[encoded data removed]"
          },
          "metadata": {}
        }
      ]
    },
    {
      "cell_type": "code",
      "source": [
        "df.columns"
      ],
      "metadata": {
        "colab": {
          "base_uri": "https://localhost:8080/"
        },
        "id": "irNveQpskH17",
        "outputId": "e420dc21-4ad3-414c-f38a-251330f0e226"
      },
      "execution_count": null,
      "outputs": [
        {
          "output_type": "execute_result",
          "data": {
            "text/plain": [
              "Index(['CRIM', 'ZN', 'INDUS', 'CHAS', 'NOX', 'RM', 'AGE', 'DIS', 'RAD', 'TAX',\n",
              "       'PTRATIO', 'B', 'LSTAT', 'MEDV'],\n",
              "      dtype='object')"
            ]
          },
          "metadata": {},
          "execution_count": 40
        }
      ]
    },
    {
      "cell_type": "code",
      "source": [
        "import matplotlib.pyplot as plt\n",
        "df.boxplot(grid=False, rot=45)\n",
        "plt.show()"
      ],
      "metadata": {
        "colab": {
          "base_uri": "https://localhost:8080/",
          "height": 467
        },
        "id": "3PKaNj4vlD_A",
        "outputId": "6f7f570f-1a8e-4ad6-e7b2-608452bd102f"
      },
      "execution_count": null,
      "outputs": [
        {
          "output_type": "display_data",
          "data": {
            "text/plain": [
              "<Figure size 640x480 with 1 Axes>"
            ],
            "image/png": "[encoded data removed]"
          },
          "metadata": {}
        }
      ]
    },
    {
      "cell_type": "markdown",
      "source": [
        "*\n",
        "*TAX and RAD are 2 variables which have correlation coefficient larger than 0.9. So we are eliminating the RAD to avoid redundancy"
      ],
      "metadata": {
        "id": "0QOm7cHDeHnQ"
      }
    },
    {
      "cell_type": "code",
      "source": [
        "df.drop(columns=\"RAD\",inplace=True)\n",
        "df"
      ],
      "metadata": {
        "colab": {
          "base_uri": "https://localhost:8080/",
          "height": 423
        },
        "id": "DyVMTY8DeaYx",
        "outputId": "c7b9e22d-5f8e-47b2-ddea-39658cad3375"
      },
      "execution_count": null,
      "outputs": [
        {
          "output_type": "execute_result",
          "data": {
            "text/plain": [
              "        CRIM    ZN  INDUS  CHAS    NOX     RM   AGE     DIS  TAX  PTRATIO  \\\n",
              "0    0.00632  18.0   2.31     0  0.538  6.575  65.2  4.0900  296     15.3   \n",
              "1    0.02731   0.0   7.07     0  0.469  6.421  78.9  4.9671  242     17.8   \n",
              "2    0.02729   0.0   7.07     0  0.469  7.185  61.1  4.9671  242     17.8   \n",
              "3    0.03237   0.0   2.18     0  0.458  6.998  45.8  6.0622  222     18.7   \n",
              "4    0.06905   0.0   2.18     0  0.458  7.147  54.2  6.0622  222     18.7   \n",
              "..       ...   ...    ...   ...    ...    ...   ...     ...  ...      ...   \n",
              "501  0.06263   0.0  11.93     0  0.573  6.593  69.1  2.4786  273     21.0   \n",
              "502  0.04527   0.0  11.93     0  0.573  6.120  76.7  2.2875  273     21.0   \n",
              "503  0.06076   0.0  11.93     0  0.573  6.976  91.0  2.1675  273     21.0   \n",
              "504  0.10959   0.0  11.93     0  0.573  6.794  89.3  2.3889  273     21.0   \n",
              "505  0.04741   0.0  11.93     0  0.573  6.030  80.8  2.5050  273     21.0   \n",
              "\n",
              "          B  LSTAT  MEDV  \n",
              "0    396.90   4.98  24.0  \n",
              "1    396.90   9.14  21.6  \n",
              "2    392.83   4.03  34.7  \n",
              "3    394.63   2.94  33.4  \n",
              "4    396.90   5.33  36.2  \n",
              "..      ...    ...   ...  \n",
              "501  391.99   9.67  22.4  \n",
              "502  396.90   9.08  20.6  \n",
              "503  396.90   5.64  23.9  \n",
              "504  393.45   6.48  22.0  \n",
              "505  396.90   7.88  11.9  \n",
              "\n",
              "[506 rows x 13 columns]"
            ],
            "text/html": [
              "\n",
              "  <div id=\"df-ee65f69e-aba9-469b-9625-c42c832334c5\" class=\"colab-df-container\">\n",
              "    <div>\n",
              "<style scoped>\n",
              "    .dataframe tbody tr th:only-of-type {\n",
              "        vertical-align: middle;\n",
              "    }\n",
              "\n",
              "    .dataframe tbody tr th {\n",
              "        vertical-align: top;\n",
              "    }\n",
              "\n",
              "    .dataframe thead th {\n",
              "        text-align: right;\n",
              "    }\n",
              "</style>\n",
              "<table border=\"1\" class=\"dataframe\">\n",
              "  <thead>\n",
              "    <tr style=\"text-align: right;\">\n",
              "      <th></th>\n",
              "      <th>CRIM</th>\n",
              "      <th>ZN</th>\n",
              "      <th>INDUS</th>\n",
              "      <th>CHAS</th>\n",
              "      <th>NOX</th>\n",
              "      <th>RM</th>\n",
              "      <th>AGE</th>\n",
              "      <th>DIS</th>\n",
              "      <th>TAX</th>\n",
              "      <th>PTRATIO</th>\n",
              "      <th>B</th>\n",
              "      <th>LSTAT</th>\n",
              "      <th>MEDV</th>\n",
              "    </tr>\n",
              "  </thead>\n",
              "  <tbody>\n",
              "    <tr>\n",
              "      <th>0</th>\n",
              "      <td>0.00632</td>\n",
              "      <td>18.0</td>\n",
              "      <td>2.31</td>\n",
              "      <td>0</td>\n",
              "      <td>0.538</td>\n",
              "      <td>6.575</td>\n",
              "      <td>65.2</td>\n",
              "      <td>4.0900</td>\n",
              "      <td>296</td>\n",
              "      <td>15.3</td>\n",
              "      <td>396.90</td>\n",
              "      <td>4.98</td>\n",
              "      <td>24.0</td>\n",
              "    </tr>\n",
              "    <tr>\n",
              "      <th>1</th>\n",
              "      <td>0.02731</td>\n",
              "      <td>0.0</td>\n",
              "      <td>7.07</td>\n",
              "      <td>0</td>\n",
              "      <td>0.469</td>\n",
              "      <td>6.421</td>\n",
              "      <td>78.9</td>\n",
              "      <td>4.9671</td>\n",
              "      <td>242</td>\n",
              "      <td>17.8</td>\n",
              "      <td>396.90</td>\n",
              "      <td>9.14</td>\n",
              "      <td>21.6</td>\n",
              "    </tr>\n",
              "    <tr>\n",
              "      <th>2</th>\n",
              "      <td>0.02729</td>\n",
              "      <td>0.0</td>\n",
              "      <td>7.07</td>\n",
              "      <td>0</td>\n",
              "      <td>0.469</td>\n",
              "      <td>7.185</td>\n",
              "      <td>61.1</td>\n",
              "      <td>4.9671</td>\n",
              "      <td>242</td>\n",
              "      <td>17.8</td>\n",
              "      <td>392.83</td>\n",
              "      <td>4.03</td>\n",
              "      <td>34.7</td>\n",
              "    </tr>\n",
              "    <tr>\n",
              "      <th>3</th>\n",
              "      <td>0.03237</td>\n",
              "      <td>0.0</td>\n",
              "      <td>2.18</td>\n",
              "      <td>0</td>\n",
              "      <td>0.458</td>\n",
              "      <td>6.998</td>\n",
              "      <td>45.8</td>\n",
              "      <td>6.0622</td>\n",
              "      <td>222</td>\n",
              "      <td>18.7</td>\n",
              "      <td>394.63</td>\n",
              "      <td>2.94</td>\n",
              "      <td>33.4</td>\n",
              "    </tr>\n",
              "    <tr>\n",
              "      <th>4</th>\n",
              "      <td>0.06905</td>\n",
              "      <td>0.0</td>\n",
              "      <td>2.18</td>\n",
              "      <td>0</td>\n",
              "      <td>0.458</td>\n",
              "      <td>7.147</td>\n",
              "      <td>54.2</td>\n",
              "      <td>6.0622</td>\n",
              "      <td>222</td>\n",
              "      <td>18.7</td>\n",
              "      <td>396.90</td>\n",
              "      <td>5.33</td>\n",
              "      <td>36.2</td>\n",
              "    </tr>\n",
              "    <tr>\n",
              "      <th>...</th>\n",
              "      <td>...</td>\n",
              "      <td>...</td>\n",
              "      <td>...</td>\n",
              "      <td>...</td>\n",
              "      <td>...</td>\n",
              "      <td>...</td>\n",
              "      <td>...</td>\n",
              "      <td>...</td>\n",
              "      <td>...</td>\n",
              "      <td>...</td>\n",
              "      <td>...</td>\n",
              "      <td>...</td>\n",
              "      <td>...</td>\n",
              "    </tr>\n",
              "    <tr>\n",
              "      <th>501</th>\n",
              "      <td>0.06263</td>\n",
              "      <td>0.0</td>\n",
              "      <td>11.93</td>\n",
              "      <td>0</td>\n",
              "      <td>0.573</td>\n",
              "      <td>6.593</td>\n",
              "      <td>69.1</td>\n",
              "      <td>2.4786</td>\n",
              "      <td>273</td>\n",
              "      <td>21.0</td>\n",
              "      <td>391.99</td>\n",
              "      <td>9.67</td>\n",
              "      <td>22.4</td>\n",
              "    </tr>\n",
              "    <tr>\n",
              "      <th>502</th>\n",
              "      <td>0.04527</td>\n",
              "      <td>0.0</td>\n",
              "      <td>11.93</td>\n",
              "      <td>0</td>\n",
              "      <td>0.573</td>\n",
              "      <td>6.120</td>\n",
              "      <td>76.7</td>\n",
              "      <td>2.2875</td>\n",
              "      <td>273</td>\n",
              "      <td>21.0</td>\n",
              "      <td>396.90</td>\n",
              "      <td>9.08</td>\n",
              "      <td>20.6</td>\n",
              "    </tr>\n",
              "    <tr>\n",
              "      <th>503</th>\n",
              "      <td>0.06076</td>\n",
              "      <td>0.0</td>\n",
              "      <td>11.93</td>\n",
              "      <td>0</td>\n",
              "      <td>0.573</td>\n",
              "      <td>6.976</td>\n",
              "      <td>91.0</td>\n",
              "      <td>2.1675</td>\n",
              "      <td>273</td>\n",
              "      <td>21.0</td>\n",
              "      <td>396.90</td>\n",
              "      <td>5.64</td>\n",
              "      <td>23.9</td>\n",
              "    </tr>\n",
              "    <tr>\n",
              "      <th>504</th>\n",
              "      <td>0.10959</td>\n",
              "      <td>0.0</td>\n",
              "      <td>11.93</td>\n",
              "      <td>0</td>\n",
              "      <td>0.573</td>\n",
              "      <td>6.794</td>\n",
              "      <td>89.3</td>\n",
              "      <td>2.3889</td>\n",
              "      <td>273</td>\n",
              "      <td>21.0</td>\n",
              "      <td>393.45</td>\n",
              "      <td>6.48</td>\n",
              "      <td>22.0</td>\n",
              "    </tr>\n",
              "    <tr>\n",
              "      <th>505</th>\n",
              "      <td>0.04741</td>\n",
              "      <td>0.0</td>\n",
              "      <td>11.93</td>\n",
              "      <td>0</td>\n",
              "      <td>0.573</td>\n",
              "      <td>6.030</td>\n",
              "      <td>80.8</td>\n",
              "      <td>2.5050</td>\n",
              "      <td>273</td>\n",
              "      <td>21.0</td>\n",
              "      <td>396.90</td>\n",
              "      <td>7.88</td>\n",
              "      <td>11.9</td>\n",
              "    </tr>\n",
              "  </tbody>\n",
              "</table>\n",
              "<p>506 rows × 13 columns</p>\n",
              "</div>\n",
              "    <div class=\"colab-df-buttons\">\n",
              "\n",
              "  <div class=\"colab-df-container\">\n",
              "    <button class=\"colab-df-convert\" onclick=\"convertToInteractive('df-ee65f69e-aba9-469b-9625-c42c832334c5')\"\n",
              "            title=\"Convert this dataframe to an interactive table.\"\n",
              "            style=\"display:none;\">\n",
              "\n",
              "  <svg xmlns=\"http://www.w3.org/2000/svg\" height=\"24px\" viewBox=\"0 -960 960 960\">\n",
              "    <path d=\"M120-120v-720h720v720H120Zm60-500h600v-160H180v160Zm220 220h160v-160H400v160Zm0 220h160v-160H400v160ZM180-400h160v-160H180v160Zm440 0h160v-160H620v160ZM180-180h160v-160H180v160Zm440 0h160v-160H620v160Z\"/>\n",
              "  </svg>\n",
              "    </button>\n",
              "\n",
              "  <style>\n",
              "    .colab-df-container {\n",
              "      display:flex;\n",
              "      gap: 12px;\n",
              "    }\n",
              "\n",
              "    .colab-df-convert {\n",
              "      background-color: #E8F0FE;\n",
              "      border: none;\n",
              "      border-radius: 50%;\n",
              "      cursor: pointer;\n",
              "      display: none;\n",
              "      fill: #1967D2;\n",
              "      height: 32px;\n",
              "      padding: 0 0 0 0;\n",
              "      width: 32px;\n",
              "    }\n",
              "\n",
              "    .colab-df-convert:hover {\n",
              "      background-color: #E2EBFA;\n",
              "      box-shadow: 0px 1px 2px rgba(60, 64, 67, 0.3), 0px 1px 3px 1px rgba(60, 64, 67, 0.15);\n",
              "      fill: #174EA6;\n",
              "    }\n",
              "\n",
              "    .colab-df-buttons div {\n",
              "      margin-bottom: 4px;\n",
              "    }\n",
              "\n",
              "    [theme=dark] .colab-df-convert {\n",
              "      background-color: #3B4455;\n",
              "      fill: #D2E3FC;\n",
              "    }\n",
              "\n",
              "    [theme=dark] .colab-df-convert:hover {\n",
              "      background-color: #434B5C;\n",
              "      box-shadow: 0px 1px 3px 1px rgba(0, 0, 0, 0.15);\n",
              "      filter: drop-shadow(0px 1px 2px rgba(0, 0, 0, 0.3));\n",
              "      fill: #FFFFFF;\n",
              "    }\n",
              "  </style>\n",
              "\n",
              "    <script>\n",
              "      const buttonEl =\n",
              "        document.querySelector('#df-ee65f69e-aba9-469b-9625-c42c832334c5 button.colab-df-convert');\n",
              "      buttonEl.style.display =\n",
              "        google.colab.kernel.accessAllowed ? 'block' : 'none';\n",
              "\n",
              "      async function convertToInteractive(key) {\n",
              "        const element = document.querySelector('#df-ee65f69e-aba9-469b-9625-c42c832334c5');\n",
              "        const dataTable =\n",
              "          await google.colab.kernel.invokeFunction('convertToInteractive',\n",
              "                                                    [key], {});\n",
              "        if (!dataTable) return;\n",
              "\n",
              "        const docLinkHtml = 'Like what you see? Visit the ' +\n",
              "          '<a target=\"_blank\" href=https://colab.research.google.com/notebooks/data_table.ipynb>data table notebook</a>'\n",
              "          + ' to learn more about interactive tables.';\n",
              "        element.innerHTML = '';\n",
              "        dataTable['output_type'] = 'display_data';\n",
              "        await google.colab.output.renderOutput(dataTable, element);\n",
              "        const docLink = document.createElement('div');\n",
              "        docLink.innerHTML = docLinkHtml;\n",
              "        element.appendChild(docLink);\n",
              "      }\n",
              "    </script>\n",
              "  </div>\n",
              "\n",
              "\n",
              "<div id=\"df-b039efa7-2140-4b9a-8067-6be6d6abf8ce\">\n",
              "  <button class=\"colab-df-quickchart\" onclick=\"quickchart('df-b039efa7-2140-4b9a-8067-6be6d6abf8ce')\"\n",
              "            title=\"Suggest charts.\"\n",
              "            style=\"display:none;\">\n",
              "\n",
              "<svg xmlns=\"http://www.w3.org/2000/svg\" height=\"24px\"viewBox=\"0 0 24 24\"\n",
              "     width=\"24px\">\n",
              "    <g>\n",
              "        <path d=\"M19 3H5c-1.1 0-2 .9-2 2v14c0 1.1.9 2 2 2h14c1.1 0 2-.9 2-2V5c0-1.1-.9-2-2-2zM9 17H7v-7h2v7zm4 0h-2V7h2v10zm4 0h-2v-4h2v4z\"/>\n",
              "    </g>\n",
              "</svg>\n",
              "  </button>\n",
              "\n",
              "<style>\n",
              "  .colab-df-quickchart {\n",
              "      --bg-color: #E8F0FE;\n",
              "      --fill-color: #1967D2;\n",
              "      --hover-bg-color: #E2EBFA;\n",
              "      --hover-fill-color: #174EA6;\n",
              "      --disabled-fill-color: #AAA;\n",
              "      --disabled-bg-color: #DDD;\n",
              "  }\n",
              "\n",
              "  [theme=dark] .colab-df-quickchart {\n",
              "      --bg-color: #3B4455;\n",
              "      --fill-color: #D2E3FC;\n",
              "      --hover-bg-color: #434B5C;\n",
              "      --hover-fill-color: #FFFFFF;\n",
              "      --disabled-bg-color: #3B4455;\n",
              "      --disabled-fill-color: #666;\n",
              "  }\n",
              "\n",
              "  .colab-df-quickchart {\n",
              "    background-color: var(--bg-color);\n",
              "    border: none;\n",
              "    border-radius: 50%;\n",
              "    cursor: pointer;\n",
              "    display: none;\n",
              "    fill: var(--fill-color);\n",
              "    height: 32px;\n",
              "    padding: 0;\n",
              "    width: 32px;\n",
              "  }\n",
              "\n",
              "  .colab-df-quickchart:hover {\n",
              "    background-color: var(--hover-bg-color);\n",
              "    box-shadow: 0 1px 2px rgba(60, 64, 67, 0.3), 0 1px 3px 1px rgba(60, 64, 67, 0.15);\n",
              "    fill: var(--button-hover-fill-color);\n",
              "  }\n",
              "\n",
              "  .colab-df-quickchart-complete:disabled,\n",
              "  .colab-df-quickchart-complete:disabled:hover {\n",
              "    background-color: var(--disabled-bg-color);\n",
              "    fill: var(--disabled-fill-color);\n",
              "    box-shadow: none;\n",
              "  }\n",
              "\n",
              "  .colab-df-spinner {\n",
              "    border: 2px solid var(--fill-color);\n",
              "    border-color: transparent;\n",
              "    border-bottom-color: var(--fill-color);\n",
              "    animation:\n",
              "      spin 1s steps(1) infinite;\n",
              "  }\n",
              "\n",
              "  @keyframes spin {\n",
              "    0% {\n",
              "      border-color: transparent;\n",
              "      border-bottom-color: var(--fill-color);\n",
              "      border-left-color: var(--fill-color);\n",
              "    }\n",
              "    20% {\n",
              "      border-color: transparent;\n",
              "      border-left-color: var(--fill-color);\n",
              "      border-top-color: var(--fill-color);\n",
              "    }\n",
              "    30% {\n",
              "      border-color: transparent;\n",
              "      border-left-color: var(--fill-color);\n",
              "      border-top-color: var(--fill-color);\n",
              "      border-right-color: var(--fill-color);\n",
              "    }\n",
              "    40% {\n",
              "      border-color: transparent;\n",
              "      border-right-color: var(--fill-color);\n",
              "      border-top-color: var(--fill-color);\n",
              "    }\n",
              "    60% {\n",
              "      border-color: transparent;\n",
              "      border-right-color: var(--fill-color);\n",
              "    }\n",
              "    80% {\n",
              "      border-color: transparent;\n",
              "      border-right-color: var(--fill-color);\n",
              "      border-bottom-color: var(--fill-color);\n",
              "    }\n",
              "    90% {\n",
              "      border-color: transparent;\n",
              "      border-bottom-color: var(--fill-color);\n",
              "    }\n",
              "  }\n",
              "</style>\n",
              "\n",
              "  <script>\n",
              "    async function quickchart(key) {\n",
              "      const quickchartButtonEl =\n",
              "        document.querySelector('#' + key + ' button');\n",
              "      quickchartButtonEl.disabled = true;  // To prevent multiple clicks.\n",
              "      quickchartButtonEl.classList.add('colab-df-spinner');\n",
              "      try {\n",
              "        const charts = await google.colab.kernel.invokeFunction(\n",
              "            'suggestCharts', [key], {});\n",
              "      } catch (error) {\n",
              "        console.error('Error during call to suggestCharts:', error);\n",
              "      }\n",
              "      quickchartButtonEl.classList.remove('colab-df-spinner');\n",
              "      quickchartButtonEl.classList.add('colab-df-quickchart-complete');\n",
              "    }\n",
              "    (() => {\n",
              "      let quickchartButtonEl =\n",
              "        document.querySelector('#df-b039efa7-2140-4b9a-8067-6be6d6abf8ce button');\n",
              "      quickchartButtonEl.style.display =\n",
              "        google.colab.kernel.accessAllowed ? 'block' : 'none';\n",
              "    })();\n",
              "  </script>\n",
              "</div>\n",
              "    </div>\n",
              "  </div>\n"
            ]
          },
          "metadata": {},
          "execution_count": 12
        }
      ]
    },
    {
      "cell_type": "code",
      "source": [
        "df.rename(columns = {'MEDV':'target'},inplace=True)"
      ],
      "metadata": {
        "id": "pBnvLYkc1o_O"
      },
      "execution_count": null,
      "outputs": []
    },
    {
      "cell_type": "markdown",
      "metadata": {
        "id": "kARkGcfnjCF8"
      },
      "source": [
        "## Data Preparation"
      ]
    },
    {
      "cell_type": "markdown",
      "source": [
        "### Data Partition\n",
        "\n",
        "Partition the data into 75% training and 25% validation set."
      ],
      "metadata": {
        "id": "iRmUgOrjvEPa"
      }
    },
    {
      "cell_type": "markdown",
      "source": [
        "\n",
        "*   MEDV is our target variable and the remaining are the feature\n",
        "variables\n",
        "*   With respect to MEDV, LSTAT has a high negative correlation\n"
      ],
      "metadata": {
        "id": "y0G-EKYNpH_m"
      }
    },
    {
      "cell_type": "code",
      "source": [
        "X = df\n",
        "y = df['target']"
      ],
      "metadata": {
        "id": "z-Kpj1ugqCA3"
      },
      "execution_count": null,
      "outputs": []
    },
    {
      "cell_type": "code",
      "source": [
        "X.head()\n"
      ],
      "metadata": {
        "colab": {
          "base_uri": "https://localhost:8080/",
          "height": 206
        },
        "id": "ApEaOMy2q4TG",
        "outputId": "91ddf370-9f3f-4df0-f5d1-801d132981ed"
      },
      "execution_count": null,
      "outputs": [
        {
          "output_type": "execute_result",
          "data": {
            "text/plain": [
              "      CRIM    ZN  INDUS  CHAS    NOX     RM   AGE     DIS  RAD  PTRATIO  \\\n",
              "0  0.00632  18.0   2.31     0  0.538  6.575  65.2  4.0900    1     15.3   \n",
              "1  0.02731   0.0   7.07     0  0.469  6.421  78.9  4.9671    2     17.8   \n",
              "2  0.02729   0.0   7.07     0  0.469  7.185  61.1  4.9671    2     17.8   \n",
              "3  0.03237   0.0   2.18     0  0.458  6.998  45.8  6.0622    3     18.7   \n",
              "4  0.06905   0.0   2.18     0  0.458  7.147  54.2  6.0622    3     18.7   \n",
              "\n",
              "        B  LSTAT  target  \n",
              "0  396.90   4.98    24.0  \n",
              "1  396.90   9.14    21.6  \n",
              "2  392.83   4.03    34.7  \n",
              "3  394.63   2.94    33.4  \n",
              "4  396.90   5.33    36.2  "
            ],
            "text/html": [
              "\n",
              "  <div id=\"df-85cea5fb-571a-47cc-9521-6ce01f60cb55\" class=\"colab-df-container\">\n",
              "    <div>\n",
              "<style scoped>\n",
              "    .dataframe tbody tr th:only-of-type {\n",
              "        vertical-align: middle;\n",
              "    }\n",
              "\n",
              "    .dataframe tbody tr th {\n",
              "        vertical-align: top;\n",
              "    }\n",
              "\n",
              "    .dataframe thead th {\n",
              "        text-align: right;\n",
              "    }\n",
              "</style>\n",
              "<table border=\"1\" class=\"dataframe\">\n",
              "  <thead>\n",
              "    <tr style=\"text-align: right;\">\n",
              "      <th></th>\n",
              "      <th>CRIM</th>\n",
              "      <th>ZN</th>\n",
              "      <th>INDUS</th>\n",
              "      <th>CHAS</th>\n",
              "      <th>NOX</th>\n",
              "      <th>RM</th>\n",
              "      <th>AGE</th>\n",
              "      <th>DIS</th>\n",
              "      <th>RAD</th>\n",
              "      <th>PTRATIO</th>\n",
              "      <th>B</th>\n",
              "      <th>LSTAT</th>\n",
              "      <th>target</th>\n",
              "    </tr>\n",
              "  </thead>\n",
              "  <tbody>\n",
              "    <tr>\n",
              "      <th>0</th>\n",
              "      <td>0.00632</td>\n",
              "      <td>18.0</td>\n",
              "      <td>2.31</td>\n",
              "      <td>0</td>\n",
              "      <td>0.538</td>\n",
              "      <td>6.575</td>\n",
              "      <td>65.2</td>\n",
              "      <td>4.0900</td>\n",
              "      <td>1</td>\n",
              "      <td>15.3</td>\n",
              "      <td>396.90</td>\n",
              "      <td>4.98</td>\n",
              "      <td>24.0</td>\n",
              "    </tr>\n",
              "    <tr>\n",
              "      <th>1</th>\n",
              "      <td>0.02731</td>\n",
              "      <td>0.0</td>\n",
              "      <td>7.07</td>\n",
              "      <td>0</td>\n",
              "      <td>0.469</td>\n",
              "      <td>6.421</td>\n",
              "      <td>78.9</td>\n",
              "      <td>4.9671</td>\n",
              "      <td>2</td>\n",
              "      <td>17.8</td>\n",
              "      <td>396.90</td>\n",
              "      <td>9.14</td>\n",
              "      <td>21.6</td>\n",
              "    </tr>\n",
              "    <tr>\n",
              "      <th>2</th>\n",
              "      <td>0.02729</td>\n",
              "      <td>0.0</td>\n",
              "      <td>7.07</td>\n",
              "      <td>0</td>\n",
              "      <td>0.469</td>\n",
              "      <td>7.185</td>\n",
              "      <td>61.1</td>\n",
              "      <td>4.9671</td>\n",
              "      <td>2</td>\n",
              "      <td>17.8</td>\n",
              "      <td>392.83</td>\n",
              "      <td>4.03</td>\n",
              "      <td>34.7</td>\n",
              "    </tr>\n",
              "    <tr>\n",
              "      <th>3</th>\n",
              "      <td>0.03237</td>\n",
              "      <td>0.0</td>\n",
              "      <td>2.18</td>\n",
              "      <td>0</td>\n",
              "      <td>0.458</td>\n",
              "      <td>6.998</td>\n",
              "      <td>45.8</td>\n",
              "      <td>6.0622</td>\n",
              "      <td>3</td>\n",
              "      <td>18.7</td>\n",
              "      <td>394.63</td>\n",
              "      <td>2.94</td>\n",
              "      <td>33.4</td>\n",
              "    </tr>\n",
              "    <tr>\n",
              "      <th>4</th>\n",
              "      <td>0.06905</td>\n",
              "      <td>0.0</td>\n",
              "      <td>2.18</td>\n",
              "      <td>0</td>\n",
              "      <td>0.458</td>\n",
              "      <td>7.147</td>\n",
              "      <td>54.2</td>\n",
              "      <td>6.0622</td>\n",
              "      <td>3</td>\n",
              "      <td>18.7</td>\n",
              "      <td>396.90</td>\n",
              "      <td>5.33</td>\n",
              "      <td>36.2</td>\n",
              "    </tr>\n",
              "  </tbody>\n",
              "</table>\n",
              "</div>\n",
              "    <div class=\"colab-df-buttons\">\n",
              "\n",
              "  <div class=\"colab-df-container\">\n",
              "    <button class=\"colab-df-convert\" onclick=\"convertToInteractive('df-85cea5fb-571a-47cc-9521-6ce01f60cb55')\"\n",
              "            title=\"Convert this dataframe to an interactive table.\"\n",
              "            style=\"display:none;\">\n",
              "\n",
              "  <svg xmlns=\"http://www.w3.org/2000/svg\" height=\"24px\" viewBox=\"0 -960 960 960\">\n",
              "    <path d=\"M120-120v-720h720v720H120Zm60-500h600v-160H180v160Zm220 220h160v-160H400v160Zm0 220h160v-160H400v160ZM180-400h160v-160H180v160Zm440 0h160v-160H620v160ZM180-180h160v-160H180v160Zm440 0h160v-160H620v160Z\"/>\n",
              "  </svg>\n",
              "    </button>\n",
              "\n",
              "  <style>\n",
              "    .colab-df-container {\n",
              "      display:flex;\n",
              "      gap: 12px;\n",
              "    }\n",
              "\n",
              "    .colab-df-convert {\n",
              "      background-color: #E8F0FE;\n",
              "      border: none;\n",
              "      border-radius: 50%;\n",
              "      cursor: pointer;\n",
              "      display: none;\n",
              "      fill: #1967D2;\n",
              "      height: 32px;\n",
              "      padding: 0 0 0 0;\n",
              "      width: 32px;\n",
              "    }\n",
              "\n",
              "    .colab-df-convert:hover {\n",
              "      background-color: #E2EBFA;\n",
              "      box-shadow: 0px 1px 2px rgba(60, 64, 67, 0.3), 0px 1px 3px 1px rgba(60, 64, 67, 0.15);\n",
              "      fill: #174EA6;\n",
              "    }\n",
              "\n",
              "    .colab-df-buttons div {\n",
              "      margin-bottom: 4px;\n",
              "    }\n",
              "\n",
              "    [theme=dark] .colab-df-convert {\n",
              "      background-color: #3B4455;\n",
              "      fill: #D2E3FC;\n",
              "    }\n",
              "\n",
              "    [theme=dark] .colab-df-convert:hover {\n",
              "      background-color: #434B5C;\n",
              "      box-shadow: 0px 1px 3px 1px rgba(0, 0, 0, 0.15);\n",
              "      filter: drop-shadow(0px 1px 2px rgba(0, 0, 0, 0.3));\n",
              "      fill: #FFFFFF;\n",
              "    }\n",
              "  </style>\n",
              "\n",
              "    <script>\n",
              "      const buttonEl =\n",
              "        document.querySelector('#df-85cea5fb-571a-47cc-9521-6ce01f60cb55 button.colab-df-convert');\n",
              "      buttonEl.style.display =\n",
              "        google.colab.kernel.accessAllowed ? 'block' : 'none';\n",
              "\n",
              "      async function convertToInteractive(key) {\n",
              "        const element = document.querySelector('#df-85cea5fb-571a-47cc-9521-6ce01f60cb55');\n",
              "        const dataTable =\n",
              "          await google.colab.kernel.invokeFunction('convertToInteractive',\n",
              "                                                    [key], {});\n",
              "        if (!dataTable) return;\n",
              "\n",
              "        const docLinkHtml = 'Like what you see? Visit the ' +\n",
              "          '<a target=\"_blank\" href=https://colab.research.google.com/notebooks/data_table.ipynb>data table notebook</a>'\n",
              "          + ' to learn more about interactive tables.';\n",
              "        element.innerHTML = '';\n",
              "        dataTable['output_type'] = 'display_data';\n",
              "        await google.colab.output.renderOutput(dataTable, element);\n",
              "        const docLink = document.createElement('div');\n",
              "        docLink.innerHTML = docLinkHtml;\n",
              "        element.appendChild(docLink);\n",
              "      }\n",
              "    </script>\n",
              "  </div>\n",
              "\n",
              "\n",
              "<div id=\"df-21d2c227-823f-4871-bed9-563d91a788d6\">\n",
              "  <button class=\"colab-df-quickchart\" onclick=\"quickchart('df-21d2c227-823f-4871-bed9-563d91a788d6')\"\n",
              "            title=\"Suggest charts.\"\n",
              "            style=\"display:none;\">\n",
              "\n",
              "<svg xmlns=\"http://www.w3.org/2000/svg\" height=\"24px\"viewBox=\"0 0 24 24\"\n",
              "     width=\"24px\">\n",
              "    <g>\n",
              "        <path d=\"M19 3H5c-1.1 0-2 .9-2 2v14c0 1.1.9 2 2 2h14c1.1 0 2-.9 2-2V5c0-1.1-.9-2-2-2zM9 17H7v-7h2v7zm4 0h-2V7h2v10zm4 0h-2v-4h2v4z\"/>\n",
              "    </g>\n",
              "</svg>\n",
              "  </button>\n",
              "\n",
              "<style>\n",
              "  .colab-df-quickchart {\n",
              "      --bg-color: #E8F0FE;\n",
              "      --fill-color: #1967D2;\n",
              "      --hover-bg-color: #E2EBFA;\n",
              "      --hover-fill-color: #174EA6;\n",
              "      --disabled-fill-color: #AAA;\n",
              "      --disabled-bg-color: #DDD;\n",
              "  }\n",
              "\n",
              "  [theme=dark] .colab-df-quickchart {\n",
              "      --bg-color: #3B4455;\n",
              "      --fill-color: #D2E3FC;\n",
              "      --hover-bg-color: #434B5C;\n",
              "      --hover-fill-color: #FFFFFF;\n",
              "      --disabled-bg-color: #3B4455;\n",
              "      --disabled-fill-color: #666;\n",
              "  }\n",
              "\n",
              "  .colab-df-quickchart {\n",
              "    background-color: var(--bg-color);\n",
              "    border: none;\n",
              "    border-radius: 50%;\n",
              "    cursor: pointer;\n",
              "    display: none;\n",
              "    fill: var(--fill-color);\n",
              "    height: 32px;\n",
              "    padding: 0;\n",
              "    width: 32px;\n",
              "  }\n",
              "\n",
              "  .colab-df-quickchart:hover {\n",
              "    background-color: var(--hover-bg-color);\n",
              "    box-shadow: 0 1px 2px rgba(60, 64, 67, 0.3), 0 1px 3px 1px rgba(60, 64, 67, 0.15);\n",
              "    fill: var(--button-hover-fill-color);\n",
              "  }\n",
              "\n",
              "  .colab-df-quickchart-complete:disabled,\n",
              "  .colab-df-quickchart-complete:disabled:hover {\n",
              "    background-color: var(--disabled-bg-color);\n",
              "    fill: var(--disabled-fill-color);\n",
              "    box-shadow: none;\n",
              "  }\n",
              "\n",
              "  .colab-df-spinner {\n",
              "    border: 2px solid var(--fill-color);\n",
              "    border-color: transparent;\n",
              "    border-bottom-color: var(--fill-color);\n",
              "    animation:\n",
              "      spin 1s steps(1) infinite;\n",
              "  }\n",
              "\n",
              "  @keyframes spin {\n",
              "    0% {\n",
              "      border-color: transparent;\n",
              "      border-bottom-color: var(--fill-color);\n",
              "      border-left-color: var(--fill-color);\n",
              "    }\n",
              "    20% {\n",
              "      border-color: transparent;\n",
              "      border-left-color: var(--fill-color);\n",
              "      border-top-color: var(--fill-color);\n",
              "    }\n",
              "    30% {\n",
              "      border-color: transparent;\n",
              "      border-left-color: var(--fill-color);\n",
              "      border-top-color: var(--fill-color);\n",
              "      border-right-color: var(--fill-color);\n",
              "    }\n",
              "    40% {\n",
              "      border-color: transparent;\n",
              "      border-right-color: var(--fill-color);\n",
              "      border-top-color: var(--fill-color);\n",
              "    }\n",
              "    60% {\n",
              "      border-color: transparent;\n",
              "      border-right-color: var(--fill-color);\n",
              "    }\n",
              "    80% {\n",
              "      border-color: transparent;\n",
              "      border-right-color: var(--fill-color);\n",
              "      border-bottom-color: var(--fill-color);\n",
              "    }\n",
              "    90% {\n",
              "      border-color: transparent;\n",
              "      border-bottom-color: var(--fill-color);\n",
              "    }\n",
              "  }\n",
              "</style>\n",
              "\n",
              "  <script>\n",
              "    async function quickchart(key) {\n",
              "      const quickchartButtonEl =\n",
              "        document.querySelector('#' + key + ' button');\n",
              "      quickchartButtonEl.disabled = true;  // To prevent multiple clicks.\n",
              "      quickchartButtonEl.classList.add('colab-df-spinner');\n",
              "      try {\n",
              "        const charts = await google.colab.kernel.invokeFunction(\n",
              "            'suggestCharts', [key], {});\n",
              "      } catch (error) {\n",
              "        console.error('Error during call to suggestCharts:', error);\n",
              "      }\n",
              "      quickchartButtonEl.classList.remove('colab-df-spinner');\n",
              "      quickchartButtonEl.classList.add('colab-df-quickchart-complete');\n",
              "    }\n",
              "    (() => {\n",
              "      let quickchartButtonEl =\n",
              "        document.querySelector('#df-21d2c227-823f-4871-bed9-563d91a788d6 button');\n",
              "      quickchartButtonEl.style.display =\n",
              "        google.colab.kernel.accessAllowed ? 'block' : 'none';\n",
              "    })();\n",
              "  </script>\n",
              "</div>\n",
              "    </div>\n",
              "  </div>\n"
            ]
          },
          "metadata": {},
          "execution_count": 56
        }
      ]
    },
    {
      "cell_type": "code",
      "source": [
        "list(df.columns[0:12])"
      ],
      "metadata": {
        "colab": {
          "base_uri": "https://localhost:8080/"
        },
        "id": "s7KHDajItJCq",
        "outputId": "d288dec2-d709-40a4-c5e5-63eb74aa110e"
      },
      "execution_count": null,
      "outputs": [
        {
          "output_type": "execute_result",
          "data": {
            "text/plain": [
              "['CRIM',\n",
              " 'ZN',\n",
              " 'INDUS',\n",
              " 'CHAS',\n",
              " 'NOX',\n",
              " 'RM',\n",
              " 'AGE',\n",
              " 'DIS',\n",
              " 'TAX',\n",
              " 'PTRATIO',\n",
              " 'B',\n",
              " 'LSTAT']"
            ]
          },
          "metadata": {},
          "execution_count": 46
        }
      ]
    },
    {
      "cell_type": "code",
      "metadata": {
        "id": "FxBLE5pzOe1q"
      },
      "source": [
        "from sklearn.model_selection import train_test_split\n",
        "X_train,X_test,y_train,y_test=train_test_split(X[list(df.columns[0:12])],y,test_size=0.25,shuffle=True,random_state=42)"
      ],
      "execution_count": null,
      "outputs": []
    },
    {
      "cell_type": "code",
      "source": [
        "print(X_train.shape)\n",
        "print(X_test.shape)\n",
        "print(y_train.shape)\n",
        "print(y_test.shape)"
      ],
      "metadata": {
        "colab": {
          "base_uri": "https://localhost:8080/"
        },
        "id": "2kouZ6puquWv",
        "outputId": "1a707b83-6ee7-47d3-e3a1-c0c7c215ac1d"
      },
      "execution_count": null,
      "outputs": [
        {
          "output_type": "stream",
          "name": "stdout",
          "text": [
            "(379, 12)\n",
            "(127, 12)\n",
            "(379,)\n",
            "(127,)\n"
          ]
        }
      ]
    },
    {
      "cell_type": "markdown",
      "source": [
        "We split the model into 25% training....we stored all the features in x and the target variable in y (i.e, MEDV)  "
      ],
      "metadata": {
        "id": "Cvljw3wYq6ff"
      }
    },
    {
      "cell_type": "markdown",
      "metadata": {
        "id": "fJqs4RnZjd-n"
      },
      "source": [
        "\n",
        "## Model Building"
      ]
    },
    {
      "cell_type": "markdown",
      "source": [
        "### Linear Regression Model\n",
        "\n",
        "If we fit a linear regression model on the training set, what will be the feature weights?"
      ],
      "metadata": {
        "id": "g692gAscvM_F"
      }
    },
    {
      "cell_type": "code",
      "metadata": {
        "id": "yTkjKMyXkP5C",
        "colab": {
          "base_uri": "https://localhost:8080/"
        },
        "outputId": "2ad7b249-9daa-4749-d260-125f4d09a95c"
      },
      "source": [
        "from sklearn import linear_model\n",
        "linear_reg = linear_model.LinearRegression()\n",
        "linear_reg.fit(X_train, y_train)\n",
        "Coefficients_feature_weights = linear_reg.coef_\n",
        "list(Coefficients_feature_weights)"
      ],
      "execution_count": null,
      "outputs": [
        {
          "output_type": "execute_result",
          "data": {
            "text/plain": [
              "[-0.09208294681311019,\n",
              " 0.022359443130075856,\n",
              " -0.005077194640570531,\n",
              " 3.1173170063193036,\n",
              " -14.519439010448254,\n",
              " 4.630679157683229,\n",
              " -0.012253825470207877,\n",
              " -1.379914536677741,\n",
              " 0.0013042009799832596,\n",
              " -0.8228044857928096,\n",
              " 0.01240956474960012,\n",
              " -0.5088941924999735]"
            ]
          },
          "metadata": {},
          "execution_count": 49
        }
      ]
    },
    {
      "cell_type": "markdown",
      "metadata": {
        "id": "tOKKKL7OkSJk"
      },
      "source": [
        "### Linear Regression with Two Predictors\n",
        "\n",
        "Now only consider two input variables: Age and RM.\n",
        "\n",
        "Fit a linear regression model on the training set with a package at your choice.\n",
        "\n",
        "Present the model summary. We call this model **Model 1**."
      ]
    },
    {
      "cell_type": "code",
      "metadata": {
        "id": "mb9lrptHlXZx"
      },
      "source": [
        "# Split Age, RM columns into training and validation set\n",
        "from sklearn.model_selection import train_test_split\n",
        "X_train, X_test, y_train, y_test = train_test_split(X[['AGE','RM']],y,test_size=0.25)"
      ],
      "execution_count": null,
      "outputs": []
    },
    {
      "cell_type": "code",
      "source": [
        "X_train = np.array(X_train)\n",
        "X_test = np.array(X_test)"
      ],
      "metadata": {
        "id": "oUVu6j2Woa_q"
      },
      "execution_count": null,
      "outputs": []
    },
    {
      "cell_type": "code",
      "source": [
        "X_train"
      ],
      "metadata": {
        "colab": {
          "base_uri": "https://localhost:8080/"
        },
        "id": "owvChDIupMpj",
        "outputId": "709443cd-a844-4b50-825b-3121cf640416"
      },
      "execution_count": null,
      "outputs": [
        {
          "output_type": "execute_result",
          "data": {
            "text/plain": [
              "array([[ 85.4  ,   6.405],\n",
              "       [ 98.2  ,   6.335],\n",
              "       [ 97.9  ,   5.617],\n",
              "       [ 17.5  ,   5.961],\n",
              "       [ 61.1  ,   7.185],\n",
              "       [ 92.7  ,   5.454],\n",
              "       [ 92.9  ,   5.961],\n",
              "       [ 24.8  ,   7.923],\n",
              "       [  6.6  ,   6.417],\n",
              "       [ 53.8  ,   5.807],\n",
              "       [ 74.4  ,   6.86 ],\n",
              "       [ 18.5  ,   5.884],\n",
              "       [ 29.2  ,   6.145],\n",
              "       [ 53.7  ,   6.232],\n",
              "       [ 16.3  ,   6.24 ],\n",
              "       [ 31.1  ,   5.787],\n",
              "       [ 79.2  ,   6.226],\n",
              "       [ 93.3  ,   6.461],\n",
              "       [ 36.6  ,   5.456],\n",
              "       [ 90.7  ,   6.229],\n",
              "       [ 27.6  ,   6.826],\n",
              "       [ 45.   ,   6.286],\n",
              "       [ 76.7  ,   6.12 ],\n",
              "       [ 59.1  ,   6.064],\n",
              "       [ 98.   ,   5.093],\n",
              "       [ 98.1  ,   5.277],\n",
              "       [ 56.1  ,   6.63 ],\n",
              "       [ 33.2  ,   7.853],\n",
              "       [ 77.8  ,   5.852],\n",
              "       [ 72.5  ,   6.176],\n",
              "       [ 85.4  ,   5.531],\n",
              "       [ 94.5  ,   6.003],\n",
              "       [ 95.2  ,   6.402],\n",
              "       [ 31.9  ,   8.034],\n",
              "       [100.   ,   5.404],\n",
              "       [ 40.5  ,   6.816],\n",
              "       [ 84.5  ,   6.096],\n",
              "       [ 84.4  ,   6.081],\n",
              "       [ 18.4  ,   6.127],\n",
              "       [ 39.   ,   5.889],\n",
              "       [ 52.3  ,   6.426],\n",
              "       [100.   ,   7.333],\n",
              "       [ 64.7  ,   6.242],\n",
              "       [ 48.5  ,   6.014],\n",
              "       [100.   ,   4.97 ],\n",
              "       [ 94.8  ,   6.459],\n",
              "       [ 93.9  ,   5.627],\n",
              "       [ 33.5  ,   6.727],\n",
              "       [ 53.2  ,   5.905],\n",
              "       [ 10.   ,   7.041],\n",
              "       [ 32.   ,   6.108],\n",
              "       [ 17.2  ,   6.333],\n",
              "       [ 81.3  ,   6.112],\n",
              "       [ 96.   ,   6.405],\n",
              "       [ 57.8  ,   6.625],\n",
              "       [ 69.1  ,   6.593],\n",
              "       [ 91.5  ,   8.398],\n",
              "       [ 58.7  ,   6.43 ],\n",
              "       [ 66.6  ,   6.012],\n",
              "       [ 78.3  ,   8.266],\n",
              "       [ 47.2  ,   5.927],\n",
              "       [ 96.4  ,   6.341],\n",
              "       [100.   ,   4.652],\n",
              "       [ 68.7  ,   5.859],\n",
              "       [ 28.8  ,   5.67 ],\n",
              "       [  2.9  ,   6.77 ],\n",
              "       [ 71.7  ,   5.782],\n",
              "       [100.   ,   4.906],\n",
              "       [ 36.9  ,   7.82 ],\n",
              "       [ 92.6  ,   6.25 ],\n",
              "       [100.   ,   6.072],\n",
              "       [ 67.2  ,   6.382],\n",
              "       [ 74.5  ,   6.279],\n",
              "       [ 97.9  ,   7.313],\n",
              "       [100.   ,   6.343],\n",
              "       [ 83.5  ,   5.983],\n",
              "       [ 76.5  ,   6.824],\n",
              "       [ 79.9  ,   7.163],\n",
              "       [ 68.2  ,   5.933],\n",
              "       [ 58.5  ,   5.968],\n",
              "       [ 59.7  ,   6.54 ],\n",
              "       [ 58.7  ,   6.538],\n",
              "       [ 88.5  ,   5.572],\n",
              "       [ 96.6  ,   6.251],\n",
              "       [ 98.8  ,   5.983],\n",
              "       [100.   ,   5.608],\n",
              "       [ 52.6  ,   7.47 ],\n",
              "       [ 66.5  ,   6.726],\n",
              "       [ 35.7  ,   6.383],\n",
              "       [ 70.4  ,   8.247],\n",
              "       [ 71.6  ,   7.358],\n",
              "       [ 86.1  ,   6.348],\n",
              "       [ 92.9  ,   5.913],\n",
              "       [ 95.4  ,   6.092],\n",
              "       [ 88.4  ,   6.376],\n",
              "       [ 66.1  ,   6.417],\n",
              "       [ 89.4  ,   7.52 ],\n",
              "       [100.   ,   5.52 ],\n",
              "       [ 91.1  ,   6.251],\n",
              "       [ 49.1  ,   6.433],\n",
              "       [ 54.   ,   5.707],\n",
              "       [100.   ,   6.411],\n",
              "       [100.   ,   6.485],\n",
              "       [ 86.5  ,   6.525],\n",
              "       [ 97.4  ,   6.943],\n",
              "       [ 45.4  ,   5.985],\n",
              "       [ 40.1  ,   6.415],\n",
              "       [ 71.3  ,   6.781],\n",
              "       [ 80.8  ,   6.03 ],\n",
              "       [ 47.4  ,   6.871],\n",
              "       [ 62.5  ,   7.416],\n",
              "       [ 97.7  ,   6.326],\n",
              "       [ 89.3  ,   6.794],\n",
              "       [100.   ,   6.852],\n",
              "       [ 52.8  ,   6.122],\n",
              "       [ 27.7  ,   6.516],\n",
              "       [ 34.5  ,   6.939],\n",
              "       [ 94.6  ,   5.875],\n",
              "       [ 84.   ,   6.167],\n",
              "       [100.   ,   5.019],\n",
              "       [ 94.3  ,   6.377],\n",
              "       [ 20.1  ,   6.345],\n",
              "       [ 30.8  ,   6.739],\n",
              "       [100.   ,   5.403],\n",
              "       [ 89.2  ,   5.965],\n",
              "       [ 94.3  ,   6.833],\n",
              "       [  8.4  ,   8.259],\n",
              "       [ 45.7  ,   5.963],\n",
              "       [ 91.4  ,   4.963],\n",
              "       [ 42.8  ,   6.854],\n",
              "       [100.   ,   6.216],\n",
              "       [ 65.2  ,   5.731],\n",
              "       [ 92.2  ,   7.155],\n",
              "       [ 70.2  ,   5.605],\n",
              "       [ 93.4  ,   5.966],\n",
              "       [ 25.8  ,   5.868],\n",
              "       [ 65.1  ,   6.095],\n",
              "       [ 89.5  ,   5.   ],\n",
              "       [ 17.7  ,   6.982],\n",
              "       [ 58.   ,   5.79 ],\n",
              "       [ 48.2  ,   5.759],\n",
              "       [ 27.7  ,   7.148],\n",
              "       [ 28.1  ,   6.874],\n",
              "       [ 94.6  ,   6.629],\n",
              "       [ 69.7  ,   5.87 ],\n",
              "       [ 91.8  ,   5.854],\n",
              "       [  6.8  ,   6.957],\n",
              "       [ 36.8  ,   5.594],\n",
              "       [ 69.6  ,   6.163],\n",
              "       [ 51.   ,   6.549],\n",
              "       [ 53.6  ,   6.442],\n",
              "       [ 92.1  ,   5.96 ],\n",
              "       [ 95.6  ,   6.38 ],\n",
              "       [ 40.3  ,   5.762],\n",
              "       [ 26.3  ,   7.178],\n",
              "       [ 86.5  ,   8.04 ],\n",
              "       [ 96.   ,   5.349],\n",
              "       [ 61.5  ,   6.086],\n",
              "       [ 82.9  ,   8.78 ],\n",
              "       [ 38.3  ,   7.274],\n",
              "       [ 13.   ,   6.487],\n",
              "       [ 97.5  ,   7.016],\n",
              "       [ 33.   ,   5.885],\n",
              "       [ 85.1  ,   6.642],\n",
              "       [ 98.8  ,   6.794],\n",
              "       [ 96.   ,   6.129],\n",
              "       [ 31.5  ,   6.23 ],\n",
              "       [ 98.3  ,   5.414],\n",
              "       [ 98.3  ,   6.417],\n",
              "       [ 77.3  ,   6.249],\n",
              "       [ 95.8  ,   5.879],\n",
              "       [ 95.7  ,   4.926],\n",
              "       [ 83.   ,   6.317],\n",
              "       [ 52.9  ,   6.358],\n",
              "       [ 61.8  ,   5.949],\n",
              "       [ 54.3  ,   6.897],\n",
              "       [ 95.6  ,   6.563],\n",
              "       [ 47.6  ,   5.888],\n",
              "       [ 90.4  ,   6.023],\n",
              "       [ 80.8  ,   6.618],\n",
              "       [ 96.7  ,   6.185],\n",
              "       [100.   ,   4.138],\n",
              "       [ 63.   ,   6.115],\n",
              "       [ 34.2  ,   7.454],\n",
              "       [ 83.2  ,   5.914],\n",
              "       [ 88.4  ,   5.986],\n",
              "       [ 86.9  ,   8.704],\n",
              "       [ 65.2  ,   6.575],\n",
              "       [ 90.   ,   6.167],\n",
              "       [ 59.6  ,   5.895],\n",
              "       [ 15.8  ,   7.024],\n",
              "       [ 76.5  ,   5.593],\n",
              "       [ 98.7  ,   6.185],\n",
              "       [ 74.9  ,   6.75 ],\n",
              "       [ 97.4  ,   6.212],\n",
              "       [ 40.   ,   6.069],\n",
              "       [ 76.5  ,   6.631],\n",
              "       [ 73.1  ,   5.872],\n",
              "       [ 32.2  ,   6.812],\n",
              "       [ 67.8  ,   6.456],\n",
              "       [ 93.8  ,   5.186],\n",
              "       [ 85.9  ,   6.004],\n",
              "       [ 95.4  ,   5.822],\n",
              "       [ 88.   ,   6.229],\n",
              "       [ 93.5  ,   5.942],\n",
              "       [ 97.9  ,   6.151],\n",
              "       [ 54.2  ,   7.147],\n",
              "       [ 92.6  ,   6.749],\n",
              "       [ 49.3  ,   7.241],\n",
              "       [ 44.4  ,   6.49 ],\n",
              "       [ 95.4  ,   5.427],\n",
              "       [ 21.4  ,   6.552],\n",
              "       [ 22.9  ,   6.565],\n",
              "       [ 59.5  ,   7.104],\n",
              "       [ 38.9  ,   7.185],\n",
              "       [ 97.3  ,   6.122],\n",
              "       [ 46.3  ,   5.869],\n",
              "       [100.   ,   5.155],\n",
              "       [ 93.   ,   6.101],\n",
              "       [ 42.1  ,   5.856],\n",
              "       [ 95.4  ,   5.896],\n",
              "       [ 21.4  ,   5.878],\n",
              "       [ 56.7  ,   5.713],\n",
              "       [ 40.4  ,   6.59 ],\n",
              "       [ 93.6  ,   6.174],\n",
              "       [ 85.2  ,   6.127],\n",
              "       [ 34.9  ,   6.108],\n",
              "       [  8.9  ,   6.438],\n",
              "       [ 96.9  ,   6.096],\n",
              "       [ 49.7  ,   7.645],\n",
              "       [ 94.1  ,   5.924],\n",
              "       [ 21.9  ,   7.249],\n",
              "       [ 75.   ,   6.437],\n",
              "       [ 32.3  ,   6.375],\n",
              "       [ 21.4  ,   5.998],\n",
              "       [ 19.5  ,   5.936],\n",
              "       [ 19.1  ,   5.876],\n",
              "       [ 59.7  ,   5.837],\n",
              "       [ 73.5  ,   5.569],\n",
              "       [ 93.8  ,   5.951],\n",
              "       [ 96.8  ,   6.683],\n",
              "       [ 95.   ,   6.208],\n",
              "       [ 83.3  ,   7.765],\n",
              "       [ 43.4  ,   6.762],\n",
              "       [ 99.3  ,   7.393],\n",
              "       [ 32.1  ,   6.482],\n",
              "       [ 81.6  ,   6.715],\n",
              "       [100.   ,   6.404],\n",
              "       [ 89.8  ,   5.604],\n",
              "       [ 47.2  ,   6.02 ],\n",
              "       [ 71.9  ,   7.42 ],\n",
              "       [ 80.3  ,   5.936],\n",
              "       [ 41.5  ,   5.85 ],\n",
              "       [ 18.4  ,   6.495],\n",
              "       [ 97.4  ,   6.162],\n",
              "       [ 56.4  ,   6.696],\n",
              "       [ 32.9  ,   6.758],\n",
              "       [ 81.8  ,   7.203],\n",
              "       [ 77.7  ,   5.705],\n",
              "       [ 94.9  ,   5.597],\n",
              "       [ 88.2  ,   5.928],\n",
              "       [100.   ,   4.88 ],\n",
              "       [ 41.1  ,   6.782],\n",
              "       [ 66.2  ,   5.741],\n",
              "       [ 87.3  ,   6.674],\n",
              "       [ 62.   ,   5.602],\n",
              "       [  6.   ,   6.273],\n",
              "       [ 90.3  ,   5.813],\n",
              "       [ 34.5  ,   6.037],\n",
              "       [ 37.3  ,   6.059],\n",
              "       [ 91.9  ,   6.968],\n",
              "       [ 84.7  ,   5.952],\n",
              "       [ 94.7  ,   5.887],\n",
              "       [ 82.5  ,   6.635],\n",
              "       [ 54.3  ,   6.376],\n",
              "       [ 48.   ,   6.389],\n",
              "       [ 18.5  ,   6.481],\n",
              "       [ 94.7  ,   5.637],\n",
              "       [ 33.3  ,   5.786],\n",
              "       [ 87.9  ,   5.976],\n",
              "       [ 84.1  ,   6.004],\n",
              "       [ 33.8  ,   5.682],\n",
              "       [  6.5  ,   6.211],\n",
              "       [ 63.1  ,   7.079],\n",
              "       [ 87.9  ,   6.436],\n",
              "       [100.   ,   5.628],\n",
              "       [  9.8  ,   5.412],\n",
              "       [ 87.4  ,   6.137],\n",
              "       [ 85.7  ,   5.599],\n",
              "       [ 15.7  ,   7.61 ],\n",
              "       [ 97.8  ,   4.903],\n",
              "       [ 91.   ,   6.976],\n",
              "       [ 67.   ,   8.297],\n",
              "       [ 18.8  ,   6.604],\n",
              "       [ 69.5  ,   5.727],\n",
              "       [ 62.2  ,   6.144],\n",
              "       [ 77.7  ,   6.879],\n",
              "       [ 96.2  ,   6.38 ],\n",
              "       [ 72.9  ,   5.39 ],\n",
              "       [ 96.7  ,   5.851],\n",
              "       [ 98.1  ,   5.57 ],\n",
              "       [ 38.4  ,   6.162],\n",
              "       [ 56.5  ,   5.834],\n",
              "       [ 70.3  ,   6.849],\n",
              "       [ 56.   ,   5.888],\n",
              "       [ 94.5  ,   7.327],\n",
              "       [ 42.2  ,   6.606],\n",
              "       [  9.9  ,   6.8  ],\n",
              "       [  7.8  ,   6.065],\n",
              "       [ 29.7  ,   6.635],\n",
              "       [ 32.2  ,   6.144],\n",
              "       [ 79.2  ,   5.877],\n",
              "       [ 58.4  ,   6.98 ],\n",
              "       [ 51.9  ,   6.312],\n",
              "       [100.   ,   6.51 ],\n",
              "       [100.   ,   3.863],\n",
              "       [ 31.3  ,   6.209],\n",
              "       [ 42.4  ,   6.182],\n",
              "       [ 31.1  ,   6.678],\n",
              "       [ 33.1  ,   6.546],\n",
              "       [ 97.1  ,   6.474],\n",
              "       [ 87.3  ,   6.567],\n",
              "       [  6.6  ,   6.169],\n",
              "       [ 41.1  ,   7.236],\n",
              "       [ 51.8  ,   7.691],\n",
              "       [ 97.   ,   5.856],\n",
              "       [ 73.9  ,   6.405],\n",
              "       [ 90.8  ,   6.782],\n",
              "       [ 52.5  ,   6.326],\n",
              "       [ 91.3  ,   6.164],\n",
              "       [ 45.8  ,   6.14 ],\n",
              "       [ 65.3  ,   6.019],\n",
              "       [ 95.   ,   5.701],\n",
              "       [ 23.4  ,   6.63 ],\n",
              "       [ 90.   ,   6.701],\n",
              "       [ 88.   ,   6.398],\n",
              "       [ 94.1  ,   5.713],\n",
              "       [ 91.9  ,   5.836],\n",
              "       [ 96.2  ,   7.929],\n",
              "       [ 34.1  ,   7.287],\n",
              "       [ 91.2  ,   6.229],\n",
              "       [ 15.3  ,   6.975],\n",
              "       [ 98.9  ,   5.747],\n",
              "       [ 88.   ,   5.012],\n",
              "       [ 71.   ,   5.926],\n",
              "       [ 92.4  ,   6.373],\n",
              "       [ 65.4  ,   6.209],\n",
              "       [ 78.1  ,   6.193],\n",
              "       [ 62.8  ,   5.56 ],\n",
              "       [ 91.8  ,   6.297],\n",
              "       [ 17.   ,   7.686],\n",
              "       [ 21.9  ,   5.663],\n",
              "       [ 85.5  ,   6.03 ],\n",
              "       [ 88.8  ,   6.047],\n",
              "       [ 83.4  ,   6.127],\n",
              "       [100.   ,   5.957],\n",
              "       [ 37.2  ,   6.968],\n",
              "       [ 82.5  ,   6.051],\n",
              "       [ 21.1  ,   6.511],\n",
              "       [ 30.2  ,   5.966],\n",
              "       [ 28.9  ,   6.312],\n",
              "       [100.   ,   5.468],\n",
              "       [ 93.6  ,   6.484],\n",
              "       [ 87.6  ,   5.648],\n",
              "       [ 96.2  ,   5.362],\n",
              "       [ 61.4  ,   5.841],\n",
              "       [ 36.6  ,   7.107],\n",
              "       [ 42.6  ,   5.926],\n",
              "       [ 32.   ,   7.875],\n",
              "       [ 45.6  ,   6.315],\n",
              "       [ 70.6  ,   5.565],\n",
              "       [ 97.   ,   5.713],\n",
              "       [ 76.9  ,   7.412],\n",
              "       [100.   ,   5.987],\n",
              "       [ 46.7  ,   6.167],\n",
              "       [ 94.   ,   5.272],\n",
              "       [ 32.2  ,   6.302],\n",
              "       [ 97.3  ,   5.88 ],\n",
              "       [ 78.9  ,   6.421]])"
            ]
          },
          "metadata": {},
          "execution_count": 52
        }
      ]
    },
    {
      "cell_type": "code",
      "source": [
        "# Train the regression model\n",
        "# Investigate training model\n",
        "from sklearn import linear_model\n",
        "model1=linear_model.LinearRegression()\n",
        "model1.fit(X_train, y_train)\n",
        "print('R^2 Value: ',model1.score(X_train, y_train))\n",
        "print('Coefficients: ',model1.coef_)\n",
        "print('Intercept:', model1.intercept_)"
      ],
      "metadata": {
        "colab": {
          "base_uri": "https://localhost:8080/"
        },
        "id": "3-biEsohonEh",
        "outputId": "2a9c66fb-8a04-4eb5-ad00-dbf9168cd713"
      },
      "execution_count": null,
      "outputs": [
        {
          "output_type": "stream",
          "name": "stdout",
          "text": [
            "R^2 Value:  0.5338078305104828\n",
            "Coefficients:  [-0.0732627   8.42518965]\n",
            "Intercept: -25.346773650543593\n"
          ]
        }
      ]
    },
    {
      "cell_type": "code",
      "source": [
        "#model summary\n",
        "import statsmodels.api as sm\n",
        "X_train_model1 = sm.add_constant(X_train)\n",
        "\n",
        "# create the model\n",
        "model1_sum = sm.OLS(y_train, X_train_model1).fit()\n",
        "\n",
        "# get the model summary\n",
        "model1_sum.summary()\n",
        "print(model1_sum.summary())"
      ],
      "metadata": {
        "colab": {
          "base_uri": "https://localhost:8080/"
        },
        "id": "5sEzf46gotre",
        "outputId": "052ff4a2-0a7f-427f-d60b-777c8875311e"
      },
      "execution_count": null,
      "outputs": [
        {
          "output_type": "stream",
          "name": "stdout",
          "text": [
            "                            OLS Regression Results                            \n",
            "==============================================================================\n",
            "Dep. Variable:                 target   R-squared:                       0.534\n",
            "Model:                            OLS   Adj. R-squared:                  0.531\n",
            "Method:                 Least Squares   F-statistic:                     215.3\n",
            "Date:                Tue, 26 Sep 2023   Prob (F-statistic):           4.90e-63\n",
            "Time:                        22:57:57   Log-Likelihood:                -1225.2\n",
            "No. Observations:                 379   AIC:                             2456.\n",
            "Df Residuals:                     376   BIC:                             2468.\n",
            "Df Model:                           2                                         \n",
            "Covariance Type:            nonrobust                                         \n",
            "==============================================================================\n",
            "                 coef    std err          t      P>|t|      [0.025      0.975]\n",
            "------------------------------------------------------------------------------\n",
            "const        -25.3468      3.334     -7.601      0.000     -31.903     -18.790\n",
            "x1            -0.0733      0.012     -6.296      0.000      -0.096      -0.050\n",
            "x2             8.4252      0.481     17.498      0.000       7.478       9.372\n",
            "==============================================================================\n",
            "Omnibus:                      139.713   Durbin-Watson:                   2.185\n",
            "Prob(Omnibus):                  0.000   Jarque-Bera (JB):             1135.495\n",
            "Skew:                           1.323   Prob(JB):                    2.69e-247\n",
            "Kurtosis:                      11.056   Cond. No.                         774.\n",
            "==============================================================================\n",
            "\n",
            "Notes:\n",
            "[1] Standard Errors assume that the covariance matrix of the errors is correctly specified.\n"
          ]
        }
      ]
    },
    {
      "cell_type": "markdown",
      "metadata": {
        "id": "b_JTWrEDlFPU"
      },
      "source": [
        "### Model 1 Performance Evaluation\n",
        "\n",
        "Evaluate the prediction performance of Model 1 on the validation set with RMSE and MAE as performance metrics."
      ]
    },
    {
      "cell_type": "code",
      "metadata": {
        "id": "716o2-CflX_1",
        "colab": {
          "base_uri": "https://localhost:8080/"
        },
        "outputId": "b0d9e6ea-27e0-49a6-e0c2-392bb3064625"
      },
      "source": [
        "from sklearn.metrics import mean_squared_error, mean_absolute_error\n",
        "import numpy as np\n",
        "\n",
        "# Make predictions on the validation/test data\n",
        "\n",
        "y_pred_test = model1.predict(X_test)\n",
        "\n",
        "# Calculate RMSE\n",
        "rmse_test = mean_squared_error(y_test, y_pred_test,squared=False)\n",
        "\n",
        "# Calculate MAE\n",
        "mae_test = mean_absolute_error(y_test, y_pred_test)\n",
        "\n",
        "print(\"RMSE test:\", rmse_test)\n",
        "print(\"MAE test:\",mae_test)"
      ],
      "execution_count": null,
      "outputs": [
        {
          "output_type": "stream",
          "name": "stdout",
          "text": [
            "RMSE test: 6.7621237222646595\n",
            "MAE test: 4.5215676437448735\n"
          ]
        }
      ]
    },
    {
      "cell_type": "markdown",
      "metadata": {
        "id": "-SVtXdBBlaF4"
      },
      "source": [
        "### Linear Regression with All Predictors\n",
        "\n",
        "Now consider all the features (after removing linearly dependent variables).\n",
        "\n",
        "Fit a linear regression model on the training set with a package at your choice. Present the model summary.\n",
        "\n",
        "We call this model **Model 2**."
      ]
    },
    {
      "cell_type": "code",
      "metadata": {
        "id": "IQsEcHVNl9Rj"
      },
      "source": [
        "X_new_train,X_new_test,y_new_train,y_new_test=train_test_split(X[list(df.columns[0:12])],y,test_size=0.25,shuffle=True,random_state=42)"
      ],
      "execution_count": null,
      "outputs": []
    },
    {
      "cell_type": "code",
      "source": [
        "print(\"Shape of Training set : \", X_new_train.shape)\n",
        "print(\"Shape of test set : \", X_new_test.shape)"
      ],
      "metadata": {
        "colab": {
          "base_uri": "https://localhost:8080/"
        },
        "id": "P3ERs29t2-3k",
        "outputId": "f998d1ef-7d32-442d-ab77-82b15f09471f"
      },
      "execution_count": null,
      "outputs": [
        {
          "output_type": "stream",
          "name": "stdout",
          "text": [
            "Shape of Training set :  (379, 12)\n",
            "Shape of test set :  (127, 12)\n"
          ]
        }
      ]
    },
    {
      "cell_type": "code",
      "source": [
        "# Train the regression model\n",
        "# Investigate training model\n",
        "from sklearn import linear_model\n",
        "model2=linear_model.LinearRegression()\n",
        "\n",
        "model2.fit(X_new_train, y_new_train)\n",
        "print('R^2 Value: ', model2.score(X_new_train, y_new_train))\n",
        "print('Coefficients: ',list(model2.coef_))\n",
        "print('Intercept:', model2.intercept_)"
      ],
      "metadata": {
        "colab": {
          "base_uri": "https://localhost:8080/"
        },
        "id": "iJRQCTNN3GO5",
        "outputId": "cbaa14e7-490a-433c-c423-fee7a65d637b"
      },
      "execution_count": null,
      "outputs": [
        {
          "output_type": "stream",
          "name": "stdout",
          "text": [
            "R^2 Value:  0.7406684337042502\n",
            "Coefficients:  [-0.09208294681311019, 0.022359443130075856, -0.005077194640570531, 3.1173170063193036, -14.519439010448254, 4.630679157683229, -0.012253825470207877, -1.379914536677741, 0.0013042009799832596, -0.8228044857928096, 0.01240956474960012, -0.5088941924999735]\n",
            "Intercept: 24.06578363084932\n"
          ]
        }
      ]
    },
    {
      "cell_type": "code",
      "source": [
        "#model summary\n",
        "import statsmodels.api as sm\n",
        "\n",
        "X_new_train1 = sm.add_constant(X_new_train)\n",
        "\n",
        "# create the model\n",
        "model2sum = sm.OLS(y_new_train, X_new_train1).fit()\n",
        "\n",
        "# get the model summary\n",
        "model2sum.summary()\n",
        "print(model2sum.summary())"
      ],
      "metadata": {
        "colab": {
          "base_uri": "https://localhost:8080/"
        },
        "id": "v-moiih83km4",
        "outputId": "c674ed03-6f63-40d8-ecde-be8888699ee3"
      },
      "execution_count": null,
      "outputs": [
        {
          "output_type": "stream",
          "name": "stdout",
          "text": [
            "                            OLS Regression Results                            \n",
            "==============================================================================\n",
            "Dep. Variable:                 target   R-squared:                       0.741\n",
            "Model:                            OLS   Adj. R-squared:                  0.732\n",
            "Method:                 Least Squares   F-statistic:                     87.11\n",
            "Date:                Tue, 26 Sep 2023   Prob (F-statistic):           2.27e-99\n",
            "Time:                        22:58:34   Log-Likelihood:                -1131.9\n",
            "No. Observations:                 379   AIC:                             2290.\n",
            "Df Residuals:                     366   BIC:                             2341.\n",
            "Df Model:                          12                                         \n",
            "Covariance Type:            nonrobust                                         \n",
            "==============================================================================\n",
            "                 coef    std err          t      P>|t|      [0.025      0.975]\n",
            "------------------------------------------------------------------------------\n",
            "const         24.0658      5.665      4.248      0.000      12.926      35.206\n",
            "CRIM          -0.0921      0.038     -2.407      0.017      -0.167      -0.017\n",
            "ZN             0.0224      0.017      1.335      0.183      -0.011       0.055\n",
            "INDUS         -0.0051      0.068     -0.074      0.941      -0.139       0.129\n",
            "CHAS           3.1173      0.981      3.178      0.002       1.188       5.046\n",
            "NOX          -14.5194      4.459     -3.256      0.001     -23.288      -5.750\n",
            "RM             4.6307      0.480      9.644      0.000       3.686       5.575\n",
            "AGE           -0.0123      0.016     -0.785      0.433      -0.043       0.018\n",
            "DIS           -1.3799      0.240     -5.752      0.000      -1.852      -0.908\n",
            "TAX            0.0013      0.003      0.476      0.634      -0.004       0.007\n",
            "PTRATIO       -0.8228      0.149     -5.540      0.000      -1.115      -0.531\n",
            "B              0.0124      0.003      3.859      0.000       0.006       0.019\n",
            "LSTAT         -0.5089      0.058     -8.737      0.000      -0.623      -0.394\n",
            "==============================================================================\n",
            "Omnibus:                      136.340   Durbin-Watson:                   2.082\n",
            "Prob(Omnibus):                  0.000   Jarque-Bera (JB):              640.212\n",
            "Skew:                           1.482   Prob(JB):                    9.54e-140\n",
            "Kurtosis:                       8.636   Cond. No.                     1.42e+04\n",
            "==============================================================================\n",
            "\n",
            "Notes:\n",
            "[1] Standard Errors assume that the covariance matrix of the errors is correctly specified.\n",
            "[2] The condition number is large, 1.42e+04. This might indicate that there are\n",
            "strong multicollinearity or other numerical problems.\n"
          ]
        }
      ]
    },
    {
      "cell_type": "markdown",
      "metadata": {
        "id": "eqscMSkwl8wU"
      },
      "source": [
        "### Model 2 Performance Evaluation\n",
        "\n",
        "Evaluate the prediction performance of Model 2 on the validation set with RMSE and MAE as performance metrics."
      ]
    },
    {
      "cell_type": "code",
      "metadata": {
        "id": "q2dbIQ1NmDzh",
        "colab": {
          "base_uri": "https://localhost:8080/"
        },
        "outputId": "5417e4bc-a3fb-484d-bf51-0163a67871f5"
      },
      "source": [
        "from sklearn.metrics import mean_squared_error, mean_absolute_error\n",
        "import numpy as np\n",
        "\n",
        "# Make predictions on the validation/test data\n",
        "\n",
        "y_newpred_test = model2.predict(X_new_test)\n",
        "\n",
        "# Calculate RMSE\n",
        "rmse_new_test = np.sqrt(mean_squared_error(y_new_test, y_newpred_test))\n",
        "\n",
        "# Calculate MAE\n",
        "mae_new_test = mean_absolute_error(y_new_test, y_newpred_test)\n",
        "\n",
        "print(\"RMSE test:\", rmse_new_test)\n",
        "print(\"MAE test:\",mae_new_test)"
      ],
      "execution_count": null,
      "outputs": [
        {
          "output_type": "stream",
          "name": "stdout",
          "text": [
            "RMSE test: 4.88579625725069\n",
            "MAE test: 3.1871194988449405\n"
          ]
        }
      ]
    },
    {
      "cell_type": "markdown",
      "metadata": {
        "id": "2ZO2elK5mFtp"
      },
      "source": [
        "### Model Performance Comparison\n",
        "\n",
        "Compare the performance of Model 1 and Model 2.\n",
        "\n",
        "Visualize the prediction error of both models using histogram.\n",
        "\n",
        "Comment on the model fitting."
      ]
    },
    {
      "cell_type": "code",
      "metadata": {
        "id": "XtK5KSL5mUY1",
        "colab": {
          "base_uri": "https://localhost:8080/",
          "height": 447
        },
        "outputId": "a5f4b8ca-c4c2-4fbb-aac5-70e90c761845"
      },
      "source": [
        "error_dictionary=[{\"model\":\"RMSE test_model1\",\"value\":rmse_test},\n",
        "                  {\"model\":\"RMSE test_model2\",\"value\": rmse_new_test}]\n",
        "error_dataFrame=pd.DataFrame(error_dictionary)\n",
        "plt.bar(error_dataFrame[\"model\"],error_dataFrame[\"value\"])"
      ],
      "execution_count": null,
      "outputs": [
        {
          "output_type": "execute_result",
          "data": {
            "text/plain": [
              "<BarContainer object of 2 artists>"
            ]
          },
          "metadata": {},
          "execution_count": 80
        },
        {
          "output_type": "display_data",
          "data": {
            "text/plain": [
              "<Figure size 640x480 with 1 Axes>"
            ],
            "image/png": "[encoded data removed]"
          },
          "metadata": {}
        }
      ]
    },
    {
      "cell_type": "code",
      "source": [
        "error_dictionary=[{\"model\":\"MAE test_model1\",\"value\":mae_test},\n",
        "                  {\"model\":\"MAE test_model2\",\"value\": mae_new_test}]\n",
        "error_dataFrame=pd.DataFrame(error_dictionary)\n",
        "plt.bar(error_dataFrame[\"model\"],error_dataFrame[\"value\"])"
      ],
      "metadata": {
        "colab": {
          "base_uri": "https://localhost:8080/",
          "height": 447
        },
        "id": "qqGtDrsA0Czc",
        "outputId": "0593f55f-3479-4e15-ec74-afb9372f23cb"
      },
      "execution_count": null,
      "outputs": [
        {
          "output_type": "execute_result",
          "data": {
            "text/plain": [
              "<BarContainer object of 2 artists>"
            ]
          },
          "metadata": {},
          "execution_count": 81
        },
        {
          "output_type": "display_data",
          "data": {
            "text/plain": [
              "<Figure size 640x480 with 1 Axes>"
            ],
            "image/png": "[encoded data removed]"
          },
          "metadata": {}
        }
      ]
    },
    {
      "cell_type": "markdown",
      "source": [
        "Model 2 is a better fit compared to model 1 since the r_squared value of model 2 is 0.7 which is closer to 1 than the 0.5 r-squared value of model 1"
      ],
      "metadata": {
        "id": "BKzafDx_zgbv"
      }
    },
    {
      "cell_type": "markdown",
      "metadata": {
        "id": "mh3dkbjAmd9H"
      },
      "source": [
        "### Linear Regression with Ridge Regression\n",
        "\n",
        "Now consider all the features (after removing linearly dependent variables) to fit a Ridge regression model on the training set with a package at your choice.\n",
        "\n",
        "Present the model summary with the selected lambda. We call this model **Model 3**."
      ]
    },
    {
      "cell_type": "code",
      "metadata": {
        "id": "8iKTKHaomrJL"
      },
      "source": [
        "RMSE_list=[]\n",
        "MAE_list=[]\n",
        "from sklearn.linear_model import Ridge\n",
        "for x in np.arange(0.1,1.1,0.01):\n",
        "  model3=Ridge(alpha=x)\n",
        "  model3.fit(X_new_train,y_new_train)\n",
        "  y_pred= model3.predict(X_new_test)\n",
        "  RMSE_list.append(np.sqrt(mean_squared_error(y_new_test, y_pred)))\n",
        "  MAE_list.append(mean_absolute_error(y_new_test, y_pred))\n",
        "\n",
        "\n",
        "\n"
      ],
      "execution_count": null,
      "outputs": []
    },
    {
      "cell_type": "code",
      "source": [
        "#model summary with selected lambda\n",
        "\n",
        "from sklearn.linear_model import Ridge\n",
        "model3=Ridge(alpha=1)\n",
        "model3.fit(X_new_train,y_new_train)\n",
        "print('R^2 Value: ', model3.score(X_new_train, y_new_train))\n",
        "print('Coefficients: ',list(model3.coef_))\n",
        "print('Intercept:', model3.intercept_)"
      ],
      "metadata": {
        "colab": {
          "base_uri": "https://localhost:8080/"
        },
        "id": "tS847P8G-PIL",
        "outputId": "ba15d747-4d72-464e-9d71-dfcb8527021e"
      },
      "execution_count": null,
      "outputs": [
        {
          "output_type": "stream",
          "name": "stdout",
          "text": [
            "R^2 Value:  0.7390845883934127\n",
            "Coefficients:  [-0.08979735898055091, 0.024378390498103787, -0.03055232973528471, 2.870780601723355, -7.883283716206609, 4.622293962405601, -0.017561488440302135, -1.2822457232158044, -1.1703835827746943e-05, -0.7474653654698573, 0.012717208711037209, -0.5248941240278419]\n",
            "Intercept: 19.931121079544177\n"
          ]
        }
      ]
    },
    {
      "cell_type": "markdown",
      "metadata": {
        "id": "awGm3NPRmsjN"
      },
      "source": [
        "### Model 3 Performance Evaluation\n",
        "\n",
        "Evaluate the prediction performance of Model 3 on the validation set with RMSE and MAE as performance metrics."
      ]
    },
    {
      "cell_type": "code",
      "source": [
        "x=np.array(np.arange(0.1,1.1,0.01))\n",
        "plt.plot(x,RMSE_list)"
      ],
      "metadata": {
        "colab": {
          "base_uri": "https://localhost:8080/",
          "height": 447
        },
        "id": "qJ3Uyt583KHm",
        "outputId": "a4706abe-3964-42e0-e0ef-33b74eca742f"
      },
      "execution_count": null,
      "outputs": [
        {
          "output_type": "execute_result",
          "data": {
            "text/plain": [
              "[<matplotlib.lines.Line2D at 0x7d770f00b8e0>]"
            ]
          },
          "metadata": {},
          "execution_count": 100
        },
        {
          "output_type": "display_data",
          "data": {
            "text/plain": [
              "<Figure size 640x480 with 1 Axes>"
            ],
            "image/png": "[encoded data removed]"
          },
          "metadata": {}
        }
      ]
    },
    {
      "cell_type": "code",
      "metadata": {
        "id": "M3iFpmebmxDz",
        "colab": {
          "base_uri": "https://localhost:8080/",
          "height": 447
        },
        "outputId": "ea344b29-d9d1-49ba-84ee-bc78f6750cce"
      },
      "source": [
        "x=np.array(np.arange(0.1,1.1,0.01))\n",
        "plt.plot(x,MAE_list)"
      ],
      "execution_count": null,
      "outputs": [
        {
          "output_type": "execute_result",
          "data": {
            "text/plain": [
              "[<matplotlib.lines.Line2D at 0x7d770f1eda50>]"
            ]
          },
          "metadata": {},
          "execution_count": 103
        },
        {
          "output_type": "display_data",
          "data": {
            "text/plain": [
              "<Figure size 640x480 with 1 Axes>"
            ],
            "image/png": "[encoded data removed]"
          },
          "metadata": {}
        }
      ]
    },
    {
      "cell_type": "markdown",
      "source": [
        "The best value as per MAE , for lambda is coming out to be 1\n",
        "hence considering it as model3"
      ],
      "metadata": {
        "id": "Z1qFhQAi4Xfs"
      }
    },
    {
      "cell_type": "code",
      "source": [
        "from sklearn.linear_model import Ridge\n",
        "model3=Ridge(alpha=1)\n",
        "model3.fit(X_new_train,y_new_train)\n",
        "print('R^2 Value: ', model3.score(X_new_train, y_new_train))\n",
        "print('Coefficients: ',list(model3.coef_))\n",
        "print('Intercept:', model3.intercept_)"
      ],
      "metadata": {
        "colab": {
          "base_uri": "https://localhost:8080/"
        },
        "id": "nh9HIOp-4sHt",
        "outputId": "934b383c-6389-4551-ae59-da603b8ec968"
      },
      "execution_count": null,
      "outputs": [
        {
          "output_type": "stream",
          "name": "stdout",
          "text": [
            "R^2 Value:  0.7390845883934127\n",
            "Coefficients:  [-0.08979735898055091, 0.024378390498103787, -0.03055232973528471, 2.870780601723355, -7.883283716206609, 4.622293962405601, -0.017561488440302135, -1.2822457232158044, -1.1703835827746943e-05, -0.7474653654698573, 0.012717208711037209, -0.5248941240278419]\n",
            "Intercept: 19.931121079544177\n"
          ]
        }
      ]
    },
    {
      "cell_type": "code",
      "source": [
        "np.sqrt(mean_squared_error(y_new_test, y_pred))"
      ],
      "metadata": {
        "colab": {
          "base_uri": "https://localhost:8080/"
        },
        "id": "i9DyK0kC5Q6n",
        "outputId": "ea4f6af0-6a26-4af1-e793-df9aa8317ebc"
      },
      "execution_count": null,
      "outputs": [
        {
          "output_type": "execute_result",
          "data": {
            "text/plain": [
              "4.908770275138655"
            ]
          },
          "metadata": {},
          "execution_count": 105
        }
      ]
    },
    {
      "cell_type": "code",
      "source": [
        "mean_absolute_error(y_new_test, y_pred)"
      ],
      "metadata": {
        "colab": {
          "base_uri": "https://localhost:8080/"
        },
        "id": "OntpiWWv5XoM",
        "outputId": "0c9f259e-2477-4fe8-cf17-24ed564f3930"
      },
      "execution_count": null,
      "outputs": [
        {
          "output_type": "execute_result",
          "data": {
            "text/plain": [
              "3.1635479819831187"
            ]
          },
          "metadata": {},
          "execution_count": 106
        }
      ]
    },
    {
      "cell_type": "markdown",
      "source": [
        "## Model Selection"
      ],
      "metadata": {
        "id": "5kCZx8ExyAdC"
      }
    },
    {
      "cell_type": "markdown",
      "metadata": {
        "id": "OolmJkPgmzet"
      },
      "source": [
        "### Model Comparison & Selection\n",
        "\n",
        "Among Model 1, 2, and 3, which one would be your pick for future implementation? State your reasons."
      ]
    },
    {
      "cell_type": "code",
      "metadata": {
        "id": "UQbxD3linDY4",
        "colab": {
          "base_uri": "https://localhost:8080/",
          "height": 447
        },
        "outputId": "257b4c60-3484-414f-861d-1c3c60e7326e"
      },
      "source": [
        "error_dictionary=[{\"model\":\"RMSE test_model1\",\"value\":rmse_test},\n",
        "                  {\"model\":\"RMSE test_model2\",\"value\": rmse_new_test},\n",
        "                  {\"model\":\"RMSE test_model3\",\"value\": np.sqrt(mean_squared_error(y_new_test, y_pred))}]\n",
        "error_dataFrame=pd.DataFrame(error_dictionary)\n",
        "plt.bar(error_dataFrame[\"model\"],error_dataFrame[\"value\"])"
      ],
      "execution_count": null,
      "outputs": [
        {
          "output_type": "execute_result",
          "data": {
            "text/plain": [
              "<BarContainer object of 3 artists>"
            ]
          },
          "metadata": {},
          "execution_count": 107
        },
        {
          "output_type": "display_data",
          "data": {
            "text/plain": [
              "<Figure size 640x480 with 1 Axes>"
            ],
            "image/png": "[encoded data removed]"
          },
          "metadata": {}
        }
      ]
    },
    {
      "cell_type": "code",
      "source": [
        "error_dictionary=[{\"model\":\"MAE test_model1\",\"value\":rmse_test},\n",
        "                  {\"model\":\"MAE test_model2\",\"value\": rmse_new_test},\n",
        "                  {\"model\":\"MAE test_model3\",\"value\": mean_absolute_error(y_new_test, y_pred)}]\n",
        "error_dataFrame=pd.DataFrame(error_dictionary)\n",
        "plt.bar(error_dataFrame[\"model\"],error_dataFrame[\"value\"])"
      ],
      "metadata": {
        "colab": {
          "base_uri": "https://localhost:8080/",
          "height": 447
        },
        "id": "khKSfct850-P",
        "outputId": "5e0e5bcb-7c96-4e4f-e476-8c2032fcd18f"
      },
      "execution_count": null,
      "outputs": [
        {
          "output_type": "execute_result",
          "data": {
            "text/plain": [
              "<BarContainer object of 3 artists>"
            ]
          },
          "metadata": {},
          "execution_count": 110
        },
        {
          "output_type": "display_data",
          "data": {
            "text/plain": [
              "<Figure size 640x480 with 1 Axes>"
            ],
            "image/png": "[encoded data removed]"
          },
          "metadata": {}
        }
      ]
    },
    {
      "cell_type": "markdown",
      "source": [
        "After evaluating all the three models considering RMSE model2 and model3 are giving equal but better performance than model1"
      ],
      "metadata": {
        "id": "sveu-zi0zxFF"
      }
    },
    {
      "cell_type": "markdown",
      "source": [
        "Also considering MAE model3 gives the best performance among all the three models, ultimately it comes down to which error metric you would give more weight to."
      ],
      "metadata": {
        "id": "KFbGuMt76cIx"
      }
    }
  ]
}